{
 "cells": [
  {
   "cell_type": "markdown",
   "metadata": {},
   "source": [
    "# `CLEMnet` predictions on RL012\n",
    "---\n",
    "#### Overview\n",
    "* Model for typical results figure and whatnot"
   ]
  },
  {
   "cell_type": "code",
   "execution_count": 1,
   "metadata": {},
   "outputs": [],
   "source": [
    "# device = cuda.get_current_device()\n",
    "# device.reset()"
   ]
  },
  {
   "cell_type": "code",
   "execution_count": 2,
   "metadata": {},
   "outputs": [],
   "source": [
    "import clemnet"
   ]
  },
  {
   "cell_type": "code",
   "execution_count": 3,
   "metadata": {},
   "outputs": [],
   "source": [
    "from pathlib import Path\n",
    "import random\n",
    "from datetime import datetime\n",
    "from numba import cuda \n",
    "\n",
    "from tqdm.notebook import tqdm\n",
    "import numpy as np\n",
    "import pandas as pd\n",
    "import matplotlib.pyplot as plt\n",
    "from matplotlib import gridspec\n",
    "\n",
    "from skimage import io, exposure, color\n",
    "from skimage import img_as_ubyte, img_as_float\n",
    "from skimage.util import invert, crop\n",
    "from skimage.transform import resize\n",
    "from sklearn import preprocessing\n",
    "\n",
    "from mpl_toolkits.axes_grid1 import make_axes_locatable\n",
    "import cv2\n",
    "from PIL import Image, ImageEnhance, ImageOps, ImageFilter\n",
    "\n",
    "import tensorflow as tf\n",
    "from tensorflow import keras\n",
    "from tensorflow.keras import layers\n",
    "\n",
    "%matplotlib widget"
   ]
  },
  {
   "cell_type": "code",
   "execution_count": 4,
   "metadata": {},
   "outputs": [],
   "source": [
    "# Set GPU\n",
    "import os\n",
    "os.environ['CUDA_VISIBLE_DEVICES'] = '2'\n",
    "\n",
    "# Ignore annoying Futurewarning from `gray2rgba`\n",
    "import warnings\n",
    "warnings.simplefilter('ignore', FutureWarning)\n",
    "\n",
    "# Set ... AUTOTUNE?\n",
    "AUTOTUNE = tf.data.experimental.AUTOTUNE\n",
    "\n",
    "# Indirectly enable autocomplete\n",
    "%config Completer.use_jedi = False"
   ]
  },
  {
   "cell_type": "markdown",
   "metadata": {},
   "source": [
    "### Create model\n",
    "Need better resolution for insulin prediction"
   ]
  },
  {
   "cell_type": "code",
   "execution_count": 5,
   "metadata": {},
   "outputs": [],
   "source": [
    "def get_model(input_shape=(1024, 1024), crop_=False, crop_width=None):\n",
    "    \"\"\"U-net-like convolutional neural network\n",
    "    Parameters\n",
    "    ----------\n",
    "    input_shape : tuple\n",
    "        Shape of input image data\n",
    "    crop : bool\n",
    "        Whether to include a cropping layer\n",
    "    crop_width : int\n",
    "        Number of pixels to crop from each border\n",
    "\n",
    "    Returns\n",
    "    -------\n",
    "    model : `keras.Model`\n",
    "        The model (duh)\n",
    "\n",
    "    References\n",
    "    ----------\n",
    "    [1] U-Net: Convolutional Networks for Biomedical Image Segmentation\n",
    "        https://arxiv.org/abs/1505.04597\n",
    "    [2] Adapted from\n",
    "        https://github.com/zhixuhao/unet/blob/master/model.py\n",
    "    \"\"\"\n",
    "    # Create input layer\n",
    "    input_shape = (*input_shape, 1) if len(input_shape) < 3 else input_shape\n",
    "    inputs = layers.Input(shape=input_shape)\n",
    "\n",
    "    # Set up keyword arguments for convolutional layers\n",
    "    kwargs = {\n",
    "        'activation': 'relu',\n",
    "        'padding': 'same',\n",
    "        'kernel_initializer': 'he_normal'\n",
    "    }\n",
    "\n",
    "    # Downsampling arm\n",
    "    # ----------------\n",
    "    # Block 1\n",
    "    conv1 = layers.Conv2D(32, 3, **kwargs)(inputs)\n",
    "    pool1 = layers.MaxPooling2D(2)(conv1)\n",
    "    # Block 2\n",
    "    conv2 = layers.Conv2D(64, 3, **kwargs)(pool1)\n",
    "    pool2 = layers.MaxPooling2D(2)(conv2)\n",
    "    # Block 3\n",
    "    conv3 = layers.Conv2D(128, 3, **kwargs)(pool2)\n",
    "    pool3 = layers.MaxPooling2D(2)(conv3)\n",
    "    # Block 4\n",
    "    conv4 = layers.Conv2D(256, 3, **kwargs)(pool3)\n",
    "    pool4 = layers.MaxPooling2D(2)(conv4)\n",
    "    # Block 5\n",
    "    conv5 = layers.Conv2D(512, 3, **kwargs)(pool4)\n",
    "    pool5 = layers.MaxPooling2D(2)(conv5)\n",
    "    # Block 6\n",
    "    conv6 = layers.Conv2D(1024, 3, **kwargs)(pool5)\n",
    "    pool6 = layers.MaxPooling2D(2)(conv6)\n",
    "\n",
    "    # Upsampling arm\n",
    "    # --------------\n",
    "    # Block 7\n",
    "    conv7 = layers.Conv2D(1024, 3, **kwargs)(pool6)\n",
    "    uppp7 = layers.UpSampling2D(2)(conv7)\n",
    "    # Block 8\n",
    "    merg8 = layers.concatenate([conv6, uppp7], axis=3)\n",
    "    conv8 = layers.Conv2D(1024, 3, **kwargs)(merg8)\n",
    "    uppp8 = layers.UpSampling2D(2)(conv8)\n",
    "    # Block 9\n",
    "    merg9 = layers.concatenate([conv5, uppp8], axis=3)\n",
    "    conv9 = layers.Conv2D(512, 3, **kwargs)(merg9)\n",
    "    uppp9 = layers.UpSampling2D(2)(conv9)\n",
    "    # Block 10\n",
    "    merg10 = layers.concatenate([conv4, uppp9], axis=3)\n",
    "    conv10 = layers.Conv2D(256, 3, **kwargs)(merg10)\n",
    "    conv10 = layers.Conv2D(2, 3, **kwargs)(conv10)\n",
    "\n",
    "    # Additional upsampling\n",
    "    uppp11 = layers.UpSampling2D(2)(conv10)\n",
    "\n",
    "    # Output layer\n",
    "    conv11 = layers.Conv2D(1, 1, activation='sigmoid')(uppp11)\n",
    "    model = keras.Model(inputs=inputs, outputs=conv11)\n",
    "    return model"
   ]
  },
  {
   "cell_type": "code",
   "execution_count": 6,
   "metadata": {},
   "outputs": [
    {
     "name": "stderr",
     "output_type": "stream",
     "text": [
      "2022-03-06 09:59:42.429949: I tensorflow/stream_executor/platform/default/dso_loader.cc:44] Successfully opened dynamic library libcuda.so.1\n",
      "2022-03-06 09:59:43.782444: I tensorflow/core/common_runtime/gpu/gpu_device.cc:1561] Found device 0 with properties: \n",
      "pciBusID: 0000:b1:00.0 name: Tesla P100-PCIE-12GB computeCapability: 6.0\n",
      "coreClock: 1.3285GHz coreCount: 56 deviceMemorySize: 11.91GiB deviceMemoryBandwidth: 511.41GiB/s\n",
      "2022-03-06 09:59:43.782713: I tensorflow/stream_executor/platform/default/dso_loader.cc:44] Successfully opened dynamic library libcudart.so.10.1\n",
      "2022-03-06 09:59:43.784583: I tensorflow/stream_executor/platform/default/dso_loader.cc:44] Successfully opened dynamic library libcublas.so.10\n",
      "2022-03-06 09:59:43.786186: I tensorflow/stream_executor/platform/default/dso_loader.cc:44] Successfully opened dynamic library libcufft.so.10\n",
      "2022-03-06 09:59:43.786500: I tensorflow/stream_executor/platform/default/dso_loader.cc:44] Successfully opened dynamic library libcurand.so.10\n",
      "2022-03-06 09:59:43.788401: I tensorflow/stream_executor/platform/default/dso_loader.cc:44] Successfully opened dynamic library libcusolver.so.10\n",
      "2022-03-06 09:59:43.789725: I tensorflow/stream_executor/platform/default/dso_loader.cc:44] Successfully opened dynamic library libcusparse.so.10\n",
      "2022-03-06 09:59:43.794103: I tensorflow/stream_executor/platform/default/dso_loader.cc:44] Successfully opened dynamic library libcudnn.so.7\n",
      "2022-03-06 09:59:43.795863: I tensorflow/core/common_runtime/gpu/gpu_device.cc:1703] Adding visible gpu devices: 0\n",
      "2022-03-06 09:59:43.796651: I tensorflow/core/platform/cpu_feature_guard.cc:143] Your CPU supports instructions that this TensorFlow binary was not compiled to use: AVX2 AVX512F FMA\n",
      "2022-03-06 09:59:43.814057: I tensorflow/core/platform/profile_utils/cpu_utils.cc:102] CPU Frequency: 2400000000 Hz\n",
      "2022-03-06 09:59:43.823604: I tensorflow/compiler/xla/service/service.cc:168] XLA service 0x563d74031fc0 initialized for platform Host (this does not guarantee that XLA will be used). Devices:\n",
      "2022-03-06 09:59:43.823629: I tensorflow/compiler/xla/service/service.cc:176]   StreamExecutor device (0): Host, Default Version\n",
      "2022-03-06 09:59:43.972234: I tensorflow/compiler/xla/service/service.cc:168] XLA service 0x563d7409cb20 initialized for platform CUDA (this does not guarantee that XLA will be used). Devices:\n",
      "2022-03-06 09:59:43.972304: I tensorflow/compiler/xla/service/service.cc:176]   StreamExecutor device (0): Tesla P100-PCIE-12GB, Compute Capability 6.0\n",
      "2022-03-06 09:59:43.975086: I tensorflow/core/common_runtime/gpu/gpu_device.cc:1561] Found device 0 with properties: \n",
      "pciBusID: 0000:b1:00.0 name: Tesla P100-PCIE-12GB computeCapability: 6.0\n",
      "coreClock: 1.3285GHz coreCount: 56 deviceMemorySize: 11.91GiB deviceMemoryBandwidth: 511.41GiB/s\n",
      "2022-03-06 09:59:43.975203: I tensorflow/stream_executor/platform/default/dso_loader.cc:44] Successfully opened dynamic library libcudart.so.10.1\n",
      "2022-03-06 09:59:43.975252: I tensorflow/stream_executor/platform/default/dso_loader.cc:44] Successfully opened dynamic library libcublas.so.10\n",
      "2022-03-06 09:59:43.975296: I tensorflow/stream_executor/platform/default/dso_loader.cc:44] Successfully opened dynamic library libcufft.so.10\n",
      "2022-03-06 09:59:43.975340: I tensorflow/stream_executor/platform/default/dso_loader.cc:44] Successfully opened dynamic library libcurand.so.10\n",
      "2022-03-06 09:59:43.975382: I tensorflow/stream_executor/platform/default/dso_loader.cc:44] Successfully opened dynamic library libcusolver.so.10\n",
      "2022-03-06 09:59:43.975425: I tensorflow/stream_executor/platform/default/dso_loader.cc:44] Successfully opened dynamic library libcusparse.so.10\n",
      "2022-03-06 09:59:43.975468: I tensorflow/stream_executor/platform/default/dso_loader.cc:44] Successfully opened dynamic library libcudnn.so.7\n",
      "2022-03-06 09:59:43.980091: I tensorflow/core/common_runtime/gpu/gpu_device.cc:1703] Adding visible gpu devices: 0\n",
      "2022-03-06 09:59:43.980188: I tensorflow/stream_executor/platform/default/dso_loader.cc:44] Successfully opened dynamic library libcudart.so.10.1\n",
      "2022-03-06 09:59:43.985769: I tensorflow/core/common_runtime/gpu/gpu_device.cc:1102] Device interconnect StreamExecutor with strength 1 edge matrix:\n",
      "2022-03-06 09:59:43.985786: I tensorflow/core/common_runtime/gpu/gpu_device.cc:1108]      0 \n",
      "2022-03-06 09:59:43.985799: I tensorflow/core/common_runtime/gpu/gpu_device.cc:1121] 0:   N \n",
      "2022-03-06 09:59:43.988655: I tensorflow/core/common_runtime/gpu/gpu_device.cc:1247] Created TensorFlow device (/job:localhost/replica:0/task:0/device:GPU:0 with 11219 MB memory) -> physical GPU (device: 0, name: Tesla P100-PCIE-12GB, pci bus id: 0000:b1:00.0, compute capability: 6.0)\n"
     ]
    },
    {
     "name": "stdout",
     "output_type": "stream",
     "text": [
      "model OK\n"
     ]
    }
   ],
   "source": [
    "shape_src = [1024, 1024]\n",
    "# Set training parameters\n",
    "repeat = True\n",
    "n_repetitions = 4\n",
    "shape_src = [1024, 1024]\n",
    "shape_tgt = [256, 256]\n",
    "augment = True\n",
    "AUGMENTATIONS = {\n",
    "    'flip': 1,\n",
    "    'rotate': 1,\n",
    "    'crop': 0.,\n",
    "    'elastic': 0.3,\n",
    "    'invert': 0.,\n",
    "    'contrast': 0.3,\n",
    "    'brightness': 0.3,\n",
    "    'noise': 0.,\n",
    "}\n",
    "pad = False\n",
    "padding = tf.constant([[16, 16],\n",
    "                       [16, 16],\n",
    "                       [ 0,  0]])\n",
    "batch_size = 16\n",
    "n_cores = 4\n",
    "input_shape = (1024, 1024)\n",
    "\n",
    "# Get model\n",
    "crop_ = pad\n",
    "crop_width = 16\n",
    "model = get_model(input_shape=input_shape,\n",
    "                  crop_=crop_, crop_width=crop_width)\n",
    "# model.summary()\n",
    "print('model OK')"
   ]
  },
  {
   "cell_type": "markdown",
   "metadata": {},
   "source": [
    "# Automated prediction Initializations\n",
    "---\n"
   ]
  },
  {
   "cell_type": "code",
   "execution_count": 7,
   "metadata": {},
   "outputs": [],
   "source": [
    "def mean_std_adjustments(m0, s0, m1, s1, image):\n",
    "    std_factor = s1/s0\n",
    "    mean_adjustment = m1-m0\n",
    "    image = image+mean_adjustment\n",
    "    image = tf.image.adjust_contrast(image[:,:,np.newaxis], std_factor)\n",
    "    image = image.numpy()[:,:,0]\n",
    "    return image"
   ]
  },
  {
   "cell_type": "markdown",
   "metadata": {},
   "source": [
    "### Settings automated prediction analysis "
   ]
  },
  {
   "cell_type": "code",
   "execution_count": 8,
   "metadata": {},
   "outputs": [
    {
     "name": "stdout",
     "output_type": "stream",
     "text": [
      "Threshold: \n",
      "[0.      0.01125 0.0225  0.03375 0.045   0.05625 0.0675  0.07875 0.09   ]\n",
      "Sharpness: \n",
      "[0.   0.75 1.5  2.25 3.   3.75 4.5  5.25 6.  ]\n",
      "Contrast: \n",
      "[0.    0.375 0.75  1.125 1.5   1.875 2.25  2.625 3.   ]\n",
      "\n",
      "Weights: (Gaussian Blur)\n",
      "RL012_1024x1024_hoechst_zoomlevel_1_gaussian_blur_1_20220107_151123.h5\n",
      "RL012_1024x1024_hoechst_zoomlevel_1_gaussian_blur_2_20220103_185956.h5\n",
      "RL012_1024x1024_hoechst_zoomlevel_1_gaussian_blur_3_20211221_211240.h5\n",
      "RL012_1024x1024_hoechst_zoomlevel_1_gaussian_blur_4_20211124_103409.h5\n",
      "RL012_1024x1024_hoechst_zoomlevel_1_gaussian_blur_5_20220102_165203.h5\n",
      "RL012_1024x1024_hoechst_zoomlevel_1_gaussian_blur_6_20220109_161845.h5\n"
     ]
    }
   ],
   "source": [
    "# Adustments Predic Dataset\n",
    "# --------------------------------------------\n",
    "# --------------------------------------------\n",
    "\n",
    "everything = ''\n",
    "zoom_level = 0\n",
    "num = 9\n",
    "sweep = True\n",
    "preview_prediction = False\n",
    "with_callbacks = False\n",
    "save_file = True\n",
    "threshold_mask = True\n",
    "active_mask = 'OSTEM-1'\n",
    "scale = 128\n",
    "\n",
    "w_alpha = 0.80\n",
    "w_beta = 1-w_alpha\n",
    "\n",
    "if everything==0:\n",
    "    adjust_PIL = False\n",
    "    adjust_invert = False\n",
    "    adjust_sharpness = False\n",
    "    adjust_contrast = False\n",
    "    adjust_mean_std = False\n",
    "    adjust_clipping = False\n",
    "elif everything==1:\n",
    "    adjust_PIL = True\n",
    "    adjust_invert = True\n",
    "    adjust_sharpness = True\n",
    "    adjust_contrast = True\n",
    "    adjust_mean_std = True\n",
    "    adjust_clipping = True\n",
    "else:\n",
    "    adjust_PIL = True\n",
    "    adjust_invert = True\n",
    "    adjust_sharpness = True\n",
    "    adjust_contrast = True\n",
    "    adjust_mean_std = True\n",
    "    adjust_clipping = False\n",
    "    \n",
    "# RL012 and FASTEM mu & sigma\n",
    "std_RL012 = 0.287\n",
    "mean_RL012 = 0.462\n",
    "\n",
    "std_BSE_1 = std_RL012 \n",
    "mean_BSE_1 = mean_RL012\n",
    "\n",
    "std_MB_SEM = 0.134\n",
    "mean_MB_SEM = 0.487\n",
    "\n",
    "std_OSTEM_2 = 0.134 #0.127\n",
    "mean_OSTEM_2 = 0.644 #0.346\n",
    "\n",
    "std_OSTEM_1 = std_OSTEM_2\n",
    "mean_OSTEM_1 = mean_OSTEM_2\n",
    "\n",
    "mean_3 = 0\n",
    "sigma_3 = 1\n",
    "\n",
    "# mean_OSTEM_1 = 0.644\n",
    "\n",
    "# Qualitatively obtained parameters, initialize\n",
    "threshold_val = 0.0375\n",
    "adjust_sharpness_level = 4.5\n",
    "adjust_contrast_level = 1.2\n",
    "\n",
    "weights_array = [\n",
    "                'RL012_1024x1024_hoechst_zoomlevel_1_gaussian_blur_1_20220107_151123.h5',\n",
    "                'RL012_1024x1024_hoechst_zoomlevel_1_gaussian_blur_2_20220103_185956.h5',\n",
    "                'RL012_1024x1024_hoechst_zoomlevel_1_gaussian_blur_3_20211221_211240.h5',\n",
    "                'RL012_1024x1024_hoechst_zoomlevel_1_gaussian_blur_4_20211124_103409.h5',\n",
    "                'RL012_1024x1024_hoechst_zoomlevel_1_gaussian_blur_5_20220102_165203.h5',\n",
    "                'RL012_1024x1024_hoechst_zoomlevel_1_gaussian_blur_6_20220109_161845.h5'\n",
    "                ]\n",
    "\n",
    "# weights_array = [\n",
    "#                 'RL012_1024x1024_hoechst_zoomlevel_1_gaussian_blur_3_20211221_211240.h5',\n",
    "#                 ]\n",
    "# ------------------------------------------------\n",
    "# ------------------------------------------------\n",
    "\n",
    "\n",
    "# Prepare parameter sweep arrays\n",
    "if sweep:\n",
    "    threshold_val_array = np.linspace(0.00,0.09,num)\n",
    "    adjust_sharpness_level_array = np.linspace(0,6,num)\n",
    "    adjust_contrast_level_array = np.linspace(0,3,num)\n",
    "else:\n",
    "    threshold_val_array = [threshold_val]\n",
    "    adjust_sharpness_level_array = [adjust_sharpness_level]\n",
    "    adjust_contrast_level_array = [adjust_contrast_level]\n",
    "\n",
    "print('Threshold: \\n' + str(threshold_val_array) if sweep else 'Threshold:   ' + str(threshold_val_array[0]))\n",
    "print('Sharpness: \\n' + str(adjust_sharpness_level_array) if sweep else 'Sharpness:   ' + str(adjust_sharpness_level_array[0]))\n",
    "print('Contrast: \\n' + str(adjust_contrast_level_array) if sweep else 'Contrast:    ' + str(adjust_contrast_level_array[0]))\n",
    "\n",
    "print()\n",
    "print('Weights: (Gaussian Blur)')\n",
    "for w in range(len(weights_array)):\n",
    "    print(weights_array[w])"
   ]
  },
  {
   "cell_type": "code",
   "execution_count": 9,
   "metadata": {
    "scrolled": false
   },
   "outputs": [],
   "source": [
    "# 20210224_FAST-EM_prototype\n",
    "# --------------\n",
    "# fp_src = '/home/rlane/FMML_DATA/20210224_FAST-EM_prototype'\n",
    "fp_src = '/home/rlane/FMML_DATA/20211206_RP_OTO/lil_EM_montaged'\n",
    "fps_src_FASTEM = list(Path(fp_src).glob('*/*_*_*.png'))\n",
    "\n",
    "# Get DataFrame for predicting\n",
    "df_tst = clemnet.get_DataFrame(fps_src_FASTEM)\n",
    "df_tst = df_tst.loc[df_tst['zoom'] == zoom_level]\n",
    "# Filter out a test section\n",
    "# df_tst = df_tst.loc[(df_tst['z'] != 1)]\n",
    "# Filter out rows & columns where data poor or not exist\n",
    "b = 0\n",
    "df_tst_filtered = pd.DataFrame()\n",
    "# # Must be done per section, first x, than y\n",
    "fltr  = pd.DataFrame()\n",
    "\n",
    "# ---------------------------------------------------------------\n",
    "#FASTEM-0 \n",
    "# [[[x0, x1], [y0, y1]]]\n",
    "# Langerhans Island\n",
    "# -----------------------------------\n",
    "# fltr_manual = [[4, 14], [18, 25]]              # zoom_level = 0\n",
    "\n",
    "# fltr_manual = [[4, 4], [18, 18]]               # zoom_level = 0\n",
    "# fltr_manual = [[5, 6], [19, 20]]               # zoom_level = 0\n",
    "\n",
    "#OSTEM-1\n",
    "# fltr_manual = [[16, 16], [11, 11]]             # zoom_level = 0\n",
    "fltr_manual = [[16, 20], [10, 15]]               # zoom_level = 0\n",
    "# ---------------------------------------------------------------\n",
    "\n",
    "for i, (z, grp) in enumerate(df_tst.groupby('z')):\n",
    "        \n",
    "    r = 2 # num of decimals       \n",
    "    df_tst_filtered = df_tst_filtered.append(grp.loc[(grp['x'] >= grp['x'].min()+b) &\\\n",
    "                                               (grp['y'] >= grp['y'].min()+b) &\\\n",
    "                                               (grp['x'] <= grp['x'].max()-b) &\\\n",
    "                                               (grp['y'] <= grp['y'].max()-b) &\\\n",
    "                                               (grp['x'] >= fltr_manual[0][0]) &\\\n",
    "                                               (grp['x'] <= fltr_manual[0][1]) &\\\n",
    "                                               (grp['y'] >= fltr_manual[1][0]) &\\\n",
    "                                               (grp['y'] <= fltr_manual[1][1])])\n",
    "\n",
    "    \n",
    "# Single tiles \n",
    "# --------------------------------------\n",
    "# Select Filepath Prediction Dataset\n",
    "fps_OSTEM = list(Path('/home/rlane/FMML_DATA/20210224_FAST-EM_prototype').glob('*/*_*_*.png'))\n",
    "fps_BSE = list(Path('/home/rlane/FMML_DATA/20200618_RL012/2us/lil_EM_2us_montaged/').glob('*/*_*_*.png'))\n",
    "fps_FM = list(Path('/home/rlane/FMML_DATA/20200618_RL012/2us/hoechst_correlated/').glob('*/*_*_*.png'))\n",
    "\n",
    "df_BSE_FM = clemnet.get_DataFrame(fps_BSE, fps_FM)\n",
    "fps_BSE = df_BSE_FM.source\n",
    "fps_FM = df_BSE_FM.target\n",
    "\n",
    "fp_OSTEM = fps_OSTEM[1916]\n",
    "num = 999\n",
    "fp_BSE = fps_BSE[num]\n",
    "fp_FM = fps_FM[num]\n",
    "\n",
    "img_OSTEM = img_as_float(io.imread(fp_OSTEM))\n",
    "img_BSE = img_as_float(io.imread(fp_BSE))\n",
    "img_FM = img_as_float(io.imread(fp_FM))\n",
    "\n",
    "# Image PIL enhancements: Sharpness, Contrast, Resizing\n",
    "# ------------------------------------------------\n",
    "if adjust_PIL:\n",
    "    im = Image.open(fp_OSTEM)\n",
    "    if adjust_invert:\n",
    "        im = ImageOps.invert(im)\n",
    "    im.thumbnail((200,200),Image.ANTIALIAS)\n",
    "    if adjust_sharpness:\n",
    "        im = ImageEnhance.Sharpness(im)\n",
    "        im = im.enhance(adjust_sharpness_level)\n",
    "    if adjust_contrast:\n",
    "        im = ImageEnhance.Contrast(im)\n",
    "        im = im.enhance(adjust_contrast_level)\n",
    "    # im = ImageEnhance.Brightness(im)\n",
    "    # im = im.enhance(0.0)\n",
    "    img_OSTEM = np.asarray(im)/255\n",
    "    # im = Image.fromarray(np.uint8(im))\n",
    "\n",
    "# # Mean & Std Adjustments + Clipping\n",
    "# # ------------------------------------------------\n",
    "\n",
    "# ----------------------------------\n",
    "# ----------------------------------\n",
    "mean_OSTEM_2 = img_OSTEM.mean()\n",
    "mean_BSE_2 = img_BSE.mean()\n",
    "std_OSTEM_2 = img_OSTEM.std()\n",
    "std_BSE_2 = img_BSE.std()\n",
    "# ----------------------------------\n",
    "# ----------------------------------\n",
    "fps_OSTEM = list(Path('/home/rlane/FMML_DATA/20211206_RP_OTO/lil_EM_montaged').glob('*/*_*_*.png'))\n",
    "fltr_manual_original_mask_size = [[16, 23], [8, 15]]                # zoom_level = 0"
   ]
  },
  {
   "cell_type": "code",
   "execution_count": 10,
   "metadata": {
    "scrolled": false
   },
   "outputs": [
    {
     "name": "stdout",
     "output_type": "stream",
     "text": [
      "RL012_1024x1024_hoechst_zoomlevel_1_gaussian_blur_1_20220107_151123.h5\n"
     ]
    },
    {
     "data": {
      "application/vnd.jupyter.widget-view+json": {
       "model_id": "12be36349d1c4c9bbe068547e963af33",
       "version_major": 2,
       "version_minor": 0
      },
      "text/plain": [
       "  0%|          | 0/9 [00:00<?, ?it/s]"
      ]
     },
     "metadata": {},
     "output_type": "display_data"
    },
    {
     "data": {
      "application/vnd.jupyter.widget-view+json": {
       "model_id": "1fb5b1d10bec4d37b71442f7de398561",
       "version_major": 2,
       "version_minor": 0
      },
      "text/plain": [
       "  0%|          | 0/9 [00:00<?, ?it/s]"
      ]
     },
     "metadata": {},
     "output_type": "display_data"
    },
    {
     "data": {
      "application/vnd.jupyter.widget-view+json": {
       "model_id": "508cad472f764b5f8c7ee411dae72e43",
       "version_major": 2,
       "version_minor": 0
      },
      "text/plain": [
       "  0%|          | 0/9 [00:00<?, ?it/s]"
      ]
     },
     "metadata": {},
     "output_type": "display_data"
    },
    {
     "name": "stderr",
     "output_type": "stream",
     "text": [
      "2022-03-06 10:00:32.706131: I tensorflow/stream_executor/platform/default/dso_loader.cc:44] Successfully opened dynamic library libcudnn.so.7\n",
      "2022-03-06 10:00:33.787091: I tensorflow/stream_executor/platform/default/dso_loader.cc:44] Successfully opened dynamic library libcublas.so.10\n"
     ]
    },
    {
     "data": {
      "application/vnd.jupyter.widget-view+json": {
       "model_id": "3586889486924d4fbbbc9832f0281991",
       "version_major": 2,
       "version_minor": 0
      },
      "text/plain": [
       "  0%|          | 0/9 [00:00<?, ?it/s]"
      ]
     },
     "metadata": {},
     "output_type": "display_data"
    },
    {
     "data": {
      "application/vnd.jupyter.widget-view+json": {
       "model_id": "c3500447d9534c8a89b9cc27ab35aa5e",
       "version_major": 2,
       "version_minor": 0
      },
      "text/plain": [
       "  0%|          | 0/9 [00:00<?, ?it/s]"
      ]
     },
     "metadata": {},
     "output_type": "display_data"
    },
    {
     "data": {
      "application/vnd.jupyter.widget-view+json": {
       "model_id": "6b1c52996bf344d999bdaf8382a87131",
       "version_major": 2,
       "version_minor": 0
      },
      "text/plain": [
       "  0%|          | 0/9 [00:00<?, ?it/s]"
      ]
     },
     "metadata": {},
     "output_type": "display_data"
    },
    {
     "data": {
      "application/vnd.jupyter.widget-view+json": {
       "model_id": "613c21a47ea2465691f08fc43dd72ae6",
       "version_major": 2,
       "version_minor": 0
      },
      "text/plain": [
       "  0%|          | 0/9 [00:00<?, ?it/s]"
      ]
     },
     "metadata": {},
     "output_type": "display_data"
    },
    {
     "data": {
      "application/vnd.jupyter.widget-view+json": {
       "model_id": "d8908739b80048a8b5805b28ad7d5cbd",
       "version_major": 2,
       "version_minor": 0
      },
      "text/plain": [
       "  0%|          | 0/9 [00:00<?, ?it/s]"
      ]
     },
     "metadata": {},
     "output_type": "display_data"
    },
    {
     "data": {
      "application/vnd.jupyter.widget-view+json": {
       "model_id": "7953d9b8841248c7af5fc5749dcabced",
       "version_major": 2,
       "version_minor": 0
      },
      "text/plain": [
       "  0%|          | 0/9 [00:00<?, ?it/s]"
      ]
     },
     "metadata": {},
     "output_type": "display_data"
    },
    {
     "data": {
      "application/vnd.jupyter.widget-view+json": {
       "model_id": "4dff80efda05465297ffbbf823ca20b0",
       "version_major": 2,
       "version_minor": 0
      },
      "text/plain": [
       "  0%|          | 0/9 [00:00<?, ?it/s]"
      ]
     },
     "metadata": {},
     "output_type": "display_data"
    },
    {
     "data": {
      "application/vnd.jupyter.widget-view+json": {
       "model_id": "ea614c0dda054b06a7bf6dc19d6a9698",
       "version_major": 2,
       "version_minor": 0
      },
      "text/plain": [
       "  0%|          | 0/9 [00:00<?, ?it/s]"
      ]
     },
     "metadata": {},
     "output_type": "display_data"
    },
    {
     "data": {
      "application/vnd.jupyter.widget-view+json": {
       "model_id": "9e29d6a3dd2b4c9780e6fb5e2b83e8a2",
       "version_major": 2,
       "version_minor": 0
      },
      "text/plain": [
       "  0%|          | 0/9 [00:00<?, ?it/s]"
      ]
     },
     "metadata": {},
     "output_type": "display_data"
    },
    {
     "data": {
      "application/vnd.jupyter.widget-view+json": {
       "model_id": "7bfcccc15cc14c6e87eb1d58f4e3e6d3",
       "version_major": 2,
       "version_minor": 0
      },
      "text/plain": [
       "  0%|          | 0/9 [00:00<?, ?it/s]"
      ]
     },
     "metadata": {},
     "output_type": "display_data"
    },
    {
     "data": {
      "application/vnd.jupyter.widget-view+json": {
       "model_id": "2e7ab64eedb84b63879717bf50b9f74e",
       "version_major": 2,
       "version_minor": 0
      },
      "text/plain": [
       "  0%|          | 0/9 [00:00<?, ?it/s]"
      ]
     },
     "metadata": {},
     "output_type": "display_data"
    },
    {
     "data": {
      "application/vnd.jupyter.widget-view+json": {
       "model_id": "b4be4b1c256d494aa27be55506953554",
       "version_major": 2,
       "version_minor": 0
      },
      "text/plain": [
       "  0%|          | 0/9 [00:00<?, ?it/s]"
      ]
     },
     "metadata": {},
     "output_type": "display_data"
    },
    {
     "data": {
      "application/vnd.jupyter.widget-view+json": {
       "model_id": "291157c9b4b240feab0c0736b3afd164",
       "version_major": 2,
       "version_minor": 0
      },
      "text/plain": [
       "  0%|          | 0/9 [00:00<?, ?it/s]"
      ]
     },
     "metadata": {},
     "output_type": "display_data"
    },
    {
     "data": {
      "application/vnd.jupyter.widget-view+json": {
       "model_id": "eed8f4abfec34e97be2a971ccc004578",
       "version_major": 2,
       "version_minor": 0
      },
      "text/plain": [
       "  0%|          | 0/9 [00:00<?, ?it/s]"
      ]
     },
     "metadata": {},
     "output_type": "display_data"
    },
    {
     "data": {
      "application/vnd.jupyter.widget-view+json": {
       "model_id": "400c56db3d754b10a77ab5ba321d1307",
       "version_major": 2,
       "version_minor": 0
      },
      "text/plain": [
       "  0%|          | 0/9 [00:00<?, ?it/s]"
      ]
     },
     "metadata": {},
     "output_type": "display_data"
    },
    {
     "data": {
      "application/vnd.jupyter.widget-view+json": {
       "model_id": "443061de84a547ef84341a021360dd9e",
       "version_major": 2,
       "version_minor": 0
      },
      "text/plain": [
       "  0%|          | 0/9 [00:00<?, ?it/s]"
      ]
     },
     "metadata": {},
     "output_type": "display_data"
    },
    {
     "data": {
      "application/vnd.jupyter.widget-view+json": {
       "model_id": "9dd6763cc9204fb7bd6625fbe1436359",
       "version_major": 2,
       "version_minor": 0
      },
      "text/plain": [
       "  0%|          | 0/9 [00:00<?, ?it/s]"
      ]
     },
     "metadata": {},
     "output_type": "display_data"
    },
    {
     "data": {
      "application/vnd.jupyter.widget-view+json": {
       "model_id": "a546300684964f2ca77ae45e04c59a92",
       "version_major": 2,
       "version_minor": 0
      },
      "text/plain": [
       "  0%|          | 0/9 [00:00<?, ?it/s]"
      ]
     },
     "metadata": {},
     "output_type": "display_data"
    },
    {
     "data": {
      "application/vnd.jupyter.widget-view+json": {
       "model_id": "6c93627376c54080891c26a6dedfd415",
       "version_major": 2,
       "version_minor": 0
      },
      "text/plain": [
       "  0%|          | 0/9 [00:00<?, ?it/s]"
      ]
     },
     "metadata": {},
     "output_type": "display_data"
    },
    {
     "data": {
      "application/vnd.jupyter.widget-view+json": {
       "model_id": "fd97d56eeb4045d091b4303d634b692b",
       "version_major": 2,
       "version_minor": 0
      },
      "text/plain": [
       "  0%|          | 0/9 [00:00<?, ?it/s]"
      ]
     },
     "metadata": {},
     "output_type": "display_data"
    },
    {
     "data": {
      "application/vnd.jupyter.widget-view+json": {
       "model_id": "f050cee73ece4c57b1de74951bfb4264",
       "version_major": 2,
       "version_minor": 0
      },
      "text/plain": [
       "  0%|          | 0/9 [00:00<?, ?it/s]"
      ]
     },
     "metadata": {},
     "output_type": "display_data"
    },
    {
     "data": {
      "application/vnd.jupyter.widget-view+json": {
       "model_id": "55734b812884432aab93e25fa25e7b78",
       "version_major": 2,
       "version_minor": 0
      },
      "text/plain": [
       "  0%|          | 0/9 [00:00<?, ?it/s]"
      ]
     },
     "metadata": {},
     "output_type": "display_data"
    },
    {
     "data": {
      "application/vnd.jupyter.widget-view+json": {
       "model_id": "f9ba766f919843f2b63473bf00f25fd6",
       "version_major": 2,
       "version_minor": 0
      },
      "text/plain": [
       "  0%|          | 0/9 [00:00<?, ?it/s]"
      ]
     },
     "metadata": {},
     "output_type": "display_data"
    },
    {
     "data": {
      "application/vnd.jupyter.widget-view+json": {
       "model_id": "4991be83f2604232850d15e994c0dd0d",
       "version_major": 2,
       "version_minor": 0
      },
      "text/plain": [
       "  0%|          | 0/9 [00:00<?, ?it/s]"
      ]
     },
     "metadata": {},
     "output_type": "display_data"
    },
    {
     "data": {
      "application/vnd.jupyter.widget-view+json": {
       "model_id": "f10f0d3fbdea4d25b0de7d33db9143fe",
       "version_major": 2,
       "version_minor": 0
      },
      "text/plain": [
       "  0%|          | 0/9 [00:00<?, ?it/s]"
      ]
     },
     "metadata": {},
     "output_type": "display_data"
    },
    {
     "data": {
      "application/vnd.jupyter.widget-view+json": {
       "model_id": "d60853e577374eb5b4754d5228bd5588",
       "version_major": 2,
       "version_minor": 0
      },
      "text/plain": [
       "  0%|          | 0/9 [00:00<?, ?it/s]"
      ]
     },
     "metadata": {},
     "output_type": "display_data"
    },
    {
     "data": {
      "application/vnd.jupyter.widget-view+json": {
       "model_id": "5f83749da59543ea9a93c7274b1d8a94",
       "version_major": 2,
       "version_minor": 0
      },
      "text/plain": [
       "  0%|          | 0/9 [00:00<?, ?it/s]"
      ]
     },
     "metadata": {},
     "output_type": "display_data"
    },
    {
     "data": {
      "application/vnd.jupyter.widget-view+json": {
       "model_id": "5c1f5e9d859e4b7dbaa9166b9b2a3f9d",
       "version_major": 2,
       "version_minor": 0
      },
      "text/plain": [
       "  0%|          | 0/9 [00:00<?, ?it/s]"
      ]
     },
     "metadata": {},
     "output_type": "display_data"
    },
    {
     "data": {
      "application/vnd.jupyter.widget-view+json": {
       "model_id": "e0fa234b9d9148bf9de1b32aa1acbc62",
       "version_major": 2,
       "version_minor": 0
      },
      "text/plain": [
       "  0%|          | 0/9 [00:00<?, ?it/s]"
      ]
     },
     "metadata": {},
     "output_type": "display_data"
    },
    {
     "data": {
      "application/vnd.jupyter.widget-view+json": {
       "model_id": "9641758ecfbe4cccbf21ae66b18a3301",
       "version_major": 2,
       "version_minor": 0
      },
      "text/plain": [
       "  0%|          | 0/9 [00:00<?, ?it/s]"
      ]
     },
     "metadata": {},
     "output_type": "display_data"
    },
    {
     "data": {
      "application/vnd.jupyter.widget-view+json": {
       "model_id": "3559b62e44014251a0b741d0c5ab9cb9",
       "version_major": 2,
       "version_minor": 0
      },
      "text/plain": [
       "  0%|          | 0/9 [00:00<?, ?it/s]"
      ]
     },
     "metadata": {},
     "output_type": "display_data"
    },
    {
     "data": {
      "application/vnd.jupyter.widget-view+json": {
       "model_id": "fdf8a7b08faa47038947fda2e07d507d",
       "version_major": 2,
       "version_minor": 0
      },
      "text/plain": [
       "  0%|          | 0/9 [00:00<?, ?it/s]"
      ]
     },
     "metadata": {},
     "output_type": "display_data"
    },
    {
     "data": {
      "application/vnd.jupyter.widget-view+json": {
       "model_id": "dbc2527f848a4c458fbafb8634b9a1d7",
       "version_major": 2,
       "version_minor": 0
      },
      "text/plain": [
       "  0%|          | 0/9 [00:00<?, ?it/s]"
      ]
     },
     "metadata": {},
     "output_type": "display_data"
    },
    {
     "data": {
      "application/vnd.jupyter.widget-view+json": {
       "model_id": "fcb2e93dae044a9188646b08299c6e63",
       "version_major": 2,
       "version_minor": 0
      },
      "text/plain": [
       "  0%|          | 0/9 [00:00<?, ?it/s]"
      ]
     },
     "metadata": {},
     "output_type": "display_data"
    },
    {
     "data": {
      "application/vnd.jupyter.widget-view+json": {
       "model_id": "50128914a11b49dc87a49efb4a698322",
       "version_major": 2,
       "version_minor": 0
      },
      "text/plain": [
       "  0%|          | 0/9 [00:00<?, ?it/s]"
      ]
     },
     "metadata": {},
     "output_type": "display_data"
    },
    {
     "data": {
      "application/vnd.jupyter.widget-view+json": {
       "model_id": "95271772693d41fbb279807ca36ddab7",
       "version_major": 2,
       "version_minor": 0
      },
      "text/plain": [
       "  0%|          | 0/9 [00:00<?, ?it/s]"
      ]
     },
     "metadata": {},
     "output_type": "display_data"
    },
    {
     "data": {
      "application/vnd.jupyter.widget-view+json": {
       "model_id": "5af3aa765301428d88cba682aff50668",
       "version_major": 2,
       "version_minor": 0
      },
      "text/plain": [
       "  0%|          | 0/9 [00:00<?, ?it/s]"
      ]
     },
     "metadata": {},
     "output_type": "display_data"
    },
    {
     "data": {
      "application/vnd.jupyter.widget-view+json": {
       "model_id": "8f0b384e5a0f4bdfac4f52cf897d7e58",
       "version_major": 2,
       "version_minor": 0
      },
      "text/plain": [
       "  0%|          | 0/9 [00:00<?, ?it/s]"
      ]
     },
     "metadata": {},
     "output_type": "display_data"
    },
    {
     "data": {
      "application/vnd.jupyter.widget-view+json": {
       "model_id": "1b050354d78240b784261474e66608da",
       "version_major": 2,
       "version_minor": 0
      },
      "text/plain": [
       "  0%|          | 0/9 [00:00<?, ?it/s]"
      ]
     },
     "metadata": {},
     "output_type": "display_data"
    },
    {
     "data": {
      "application/vnd.jupyter.widget-view+json": {
       "model_id": "53980968a81d4f02a3d16c4e97afba52",
       "version_major": 2,
       "version_minor": 0
      },
      "text/plain": [
       "  0%|          | 0/9 [00:00<?, ?it/s]"
      ]
     },
     "metadata": {},
     "output_type": "display_data"
    },
    {
     "data": {
      "application/vnd.jupyter.widget-view+json": {
       "model_id": "523eb718ed4e486ebb13c5f5f3253bc6",
       "version_major": 2,
       "version_minor": 0
      },
      "text/plain": [
       "  0%|          | 0/9 [00:00<?, ?it/s]"
      ]
     },
     "metadata": {},
     "output_type": "display_data"
    },
    {
     "data": {
      "application/vnd.jupyter.widget-view+json": {
       "model_id": "10fba813567a46e390e37b030e520b75",
       "version_major": 2,
       "version_minor": 0
      },
      "text/plain": [
       "  0%|          | 0/9 [00:00<?, ?it/s]"
      ]
     },
     "metadata": {},
     "output_type": "display_data"
    },
    {
     "data": {
      "application/vnd.jupyter.widget-view+json": {
       "model_id": "7860fd1c41db448dac00bada3d4257a5",
       "version_major": 2,
       "version_minor": 0
      },
      "text/plain": [
       "  0%|          | 0/9 [00:00<?, ?it/s]"
      ]
     },
     "metadata": {},
     "output_type": "display_data"
    },
    {
     "data": {
      "application/vnd.jupyter.widget-view+json": {
       "model_id": "0adf457b3ae44ac799e67905c51f94fc",
       "version_major": 2,
       "version_minor": 0
      },
      "text/plain": [
       "  0%|          | 0/9 [00:00<?, ?it/s]"
      ]
     },
     "metadata": {},
     "output_type": "display_data"
    },
    {
     "data": {
      "application/vnd.jupyter.widget-view+json": {
       "model_id": "3dd40109616b44e780c97e7afc285792",
       "version_major": 2,
       "version_minor": 0
      },
      "text/plain": [
       "  0%|          | 0/9 [00:00<?, ?it/s]"
      ]
     },
     "metadata": {},
     "output_type": "display_data"
    },
    {
     "data": {
      "application/vnd.jupyter.widget-view+json": {
       "model_id": "167885336f3141b68b3e28b17cca2e37",
       "version_major": 2,
       "version_minor": 0
      },
      "text/plain": [
       "  0%|          | 0/9 [00:00<?, ?it/s]"
      ]
     },
     "metadata": {},
     "output_type": "display_data"
    },
    {
     "data": {
      "application/vnd.jupyter.widget-view+json": {
       "model_id": "5c02f90e09ce487880a2bc8eb5aa9a22",
       "version_major": 2,
       "version_minor": 0
      },
      "text/plain": [
       "  0%|          | 0/9 [00:00<?, ?it/s]"
      ]
     },
     "metadata": {},
     "output_type": "display_data"
    },
    {
     "data": {
      "application/vnd.jupyter.widget-view+json": {
       "model_id": "c5a8cef0a3464a18bc9bbbc393c79d45",
       "version_major": 2,
       "version_minor": 0
      },
      "text/plain": [
       "  0%|          | 0/9 [00:00<?, ?it/s]"
      ]
     },
     "metadata": {},
     "output_type": "display_data"
    },
    {
     "data": {
      "application/vnd.jupyter.widget-view+json": {
       "model_id": "8e4e8b19ccc94899a8ae62faa8b762a7",
       "version_major": 2,
       "version_minor": 0
      },
      "text/plain": [
       "  0%|          | 0/9 [00:00<?, ?it/s]"
      ]
     },
     "metadata": {},
     "output_type": "display_data"
    },
    {
     "data": {
      "application/vnd.jupyter.widget-view+json": {
       "model_id": "a029e05e7e2d4c3fa640f7063dd96e23",
       "version_major": 2,
       "version_minor": 0
      },
      "text/plain": [
       "  0%|          | 0/9 [00:00<?, ?it/s]"
      ]
     },
     "metadata": {},
     "output_type": "display_data"
    },
    {
     "name": "stderr",
     "output_type": "stream",
     "text": [
      "/tmp/ipykernel_327045/2309661019.py:170: RuntimeWarning: invalid value encountered in true_divide\n",
      "  section_PR_thres_1_ = clemnet.colorize(section_PR_thres_1/section_PR_thres_1.max(), T=clemnet.T_HOECHST)\n",
      "/home/mabels/miniconda3/envs/clemnet/lib/python3.8/site-packages/clemnet/utils.py:154: UserWarning: One or more intensity levels are NaN. Rescaling will broadcast NaN to the full image. Provide intensity levels yourself to avoid this. E.g. with np.nanmin(image), np.nanmax(image).\n",
      "  rescaled = exposure.rescale_intensity(transformed)\n",
      "/tmp/ipykernel_327045/2309661019.py:172: RuntimeWarning: invalid value encountered in true_divide\n",
      "  section_PR_thres_2_ = clemnet.colorize(section_PR_thres_2/section_PR_thres_2.max(), T=clemnet.T_HOECHST)\n"
     ]
    },
    {
     "data": {
      "application/vnd.jupyter.widget-view+json": {
       "model_id": "4de2bf3e6cb149928a53e777cf1885ca",
       "version_major": 2,
       "version_minor": 0
      },
      "text/plain": [
       "  0%|          | 0/9 [00:00<?, ?it/s]"
      ]
     },
     "metadata": {},
     "output_type": "display_data"
    },
    {
     "data": {
      "application/vnd.jupyter.widget-view+json": {
       "model_id": "da3366e3ed7144ceb2cfc71e292eb39f",
       "version_major": 2,
       "version_minor": 0
      },
      "text/plain": [
       "  0%|          | 0/9 [00:00<?, ?it/s]"
      ]
     },
     "metadata": {},
     "output_type": "display_data"
    },
    {
     "data": {
      "application/vnd.jupyter.widget-view+json": {
       "model_id": "6c5ccf34a2bb4d998fe3ba775dcf446c",
       "version_major": 2,
       "version_minor": 0
      },
      "text/plain": [
       "  0%|          | 0/9 [00:00<?, ?it/s]"
      ]
     },
     "metadata": {},
     "output_type": "display_data"
    },
    {
     "data": {
      "application/vnd.jupyter.widget-view+json": {
       "model_id": "d27074971e544f20966b11449510b92e",
       "version_major": 2,
       "version_minor": 0
      },
      "text/plain": [
       "  0%|          | 0/9 [00:00<?, ?it/s]"
      ]
     },
     "metadata": {},
     "output_type": "display_data"
    },
    {
     "data": {
      "application/vnd.jupyter.widget-view+json": {
       "model_id": "0985894ac4ff4654884ad47ee6b98186",
       "version_major": 2,
       "version_minor": 0
      },
      "text/plain": [
       "  0%|          | 0/9 [00:00<?, ?it/s]"
      ]
     },
     "metadata": {},
     "output_type": "display_data"
    },
    {
     "data": {
      "application/vnd.jupyter.widget-view+json": {
       "model_id": "d0596a9d000142fa8447d13e7a3a514a",
       "version_major": 2,
       "version_minor": 0
      },
      "text/plain": [
       "  0%|          | 0/9 [00:00<?, ?it/s]"
      ]
     },
     "metadata": {},
     "output_type": "display_data"
    },
    {
     "data": {
      "application/vnd.jupyter.widget-view+json": {
       "model_id": "4b156fcdad8b4d59803aeb19822164a3",
       "version_major": 2,
       "version_minor": 0
      },
      "text/plain": [
       "  0%|          | 0/9 [00:00<?, ?it/s]"
      ]
     },
     "metadata": {},
     "output_type": "display_data"
    },
    {
     "data": {
      "application/vnd.jupyter.widget-view+json": {
       "model_id": "3a4f8f4b13414fe7af024195987f2ea6",
       "version_major": 2,
       "version_minor": 0
      },
      "text/plain": [
       "  0%|          | 0/9 [00:00<?, ?it/s]"
      ]
     },
     "metadata": {},
     "output_type": "display_data"
    },
    {
     "data": {
      "application/vnd.jupyter.widget-view+json": {
       "model_id": "65b49393c1d7474eb6398f95e0d2c324",
       "version_major": 2,
       "version_minor": 0
      },
      "text/plain": [
       "  0%|          | 0/9 [00:00<?, ?it/s]"
      ]
     },
     "metadata": {},
     "output_type": "display_data"
    },
    {
     "data": {
      "application/vnd.jupyter.widget-view+json": {
       "model_id": "792043b5a5dd491784113d21c3d208e2",
       "version_major": 2,
       "version_minor": 0
      },
      "text/plain": [
       "  0%|          | 0/9 [00:00<?, ?it/s]"
      ]
     },
     "metadata": {},
     "output_type": "display_data"
    },
    {
     "data": {
      "application/vnd.jupyter.widget-view+json": {
       "model_id": "7290a1230cfd4c90b4a163f21fa1ed53",
       "version_major": 2,
       "version_minor": 0
      },
      "text/plain": [
       "  0%|          | 0/9 [00:00<?, ?it/s]"
      ]
     },
     "metadata": {},
     "output_type": "display_data"
    },
    {
     "data": {
      "application/vnd.jupyter.widget-view+json": {
       "model_id": "9612e53cbd0c4d03b90964396c45ccab",
       "version_major": 2,
       "version_minor": 0
      },
      "text/plain": [
       "  0%|          | 0/9 [00:00<?, ?it/s]"
      ]
     },
     "metadata": {},
     "output_type": "display_data"
    },
    {
     "data": {
      "application/vnd.jupyter.widget-view+json": {
       "model_id": "c27c95b47c494cc3aa1d3e324f326943",
       "version_major": 2,
       "version_minor": 0
      },
      "text/plain": [
       "  0%|          | 0/9 [00:00<?, ?it/s]"
      ]
     },
     "metadata": {},
     "output_type": "display_data"
    },
    {
     "data": {
      "application/vnd.jupyter.widget-view+json": {
       "model_id": "cc6d4ed63ffa4021beaf614822c2116a",
       "version_major": 2,
       "version_minor": 0
      },
      "text/plain": [
       "  0%|          | 0/9 [00:00<?, ?it/s]"
      ]
     },
     "metadata": {},
     "output_type": "display_data"
    },
    {
     "data": {
      "application/vnd.jupyter.widget-view+json": {
       "model_id": "fe6b29b5d0b4453782c905165660e790",
       "version_major": 2,
       "version_minor": 0
      },
      "text/plain": [
       "  0%|          | 0/9 [00:00<?, ?it/s]"
      ]
     },
     "metadata": {},
     "output_type": "display_data"
    },
    {
     "data": {
      "application/vnd.jupyter.widget-view+json": {
       "model_id": "4b199103def04bdf9fa13ddf736754b6",
       "version_major": 2,
       "version_minor": 0
      },
      "text/plain": [
       "  0%|          | 0/9 [00:00<?, ?it/s]"
      ]
     },
     "metadata": {},
     "output_type": "display_data"
    },
    {
     "data": {
      "application/vnd.jupyter.widget-view+json": {
       "model_id": "f9cd066f5acc4cfeb214d8736842ebda",
       "version_major": 2,
       "version_minor": 0
      },
      "text/plain": [
       "  0%|          | 0/9 [00:00<?, ?it/s]"
      ]
     },
     "metadata": {},
     "output_type": "display_data"
    },
    {
     "data": {
      "application/vnd.jupyter.widget-view+json": {
       "model_id": "ce78805559484a23917c842cbb48386c",
       "version_major": 2,
       "version_minor": 0
      },
      "text/plain": [
       "  0%|          | 0/9 [00:00<?, ?it/s]"
      ]
     },
     "metadata": {},
     "output_type": "display_data"
    },
    {
     "data": {
      "application/vnd.jupyter.widget-view+json": {
       "model_id": "4ece5a1d35ee46af864f3491b588452d",
       "version_major": 2,
       "version_minor": 0
      },
      "text/plain": [
       "  0%|          | 0/9 [00:00<?, ?it/s]"
      ]
     },
     "metadata": {},
     "output_type": "display_data"
    },
    {
     "data": {
      "application/vnd.jupyter.widget-view+json": {
       "model_id": "ad1e1dc3b561495da4d3bf131ee03979",
       "version_major": 2,
       "version_minor": 0
      },
      "text/plain": [
       "  0%|          | 0/9 [00:00<?, ?it/s]"
      ]
     },
     "metadata": {},
     "output_type": "display_data"
    },
    {
     "data": {
      "application/vnd.jupyter.widget-view+json": {
       "model_id": "8e25dfa62a1044368a6cf09b5cc81623",
       "version_major": 2,
       "version_minor": 0
      },
      "text/plain": [
       "  0%|          | 0/9 [00:00<?, ?it/s]"
      ]
     },
     "metadata": {},
     "output_type": "display_data"
    },
    {
     "data": {
      "application/vnd.jupyter.widget-view+json": {
       "model_id": "5a406efb864a4065b09db0966fe6e988",
       "version_major": 2,
       "version_minor": 0
      },
      "text/plain": [
       "  0%|          | 0/9 [00:00<?, ?it/s]"
      ]
     },
     "metadata": {},
     "output_type": "display_data"
    },
    {
     "data": {
      "application/vnd.jupyter.widget-view+json": {
       "model_id": "7c9df17483f8407684ff3bffd37d7419",
       "version_major": 2,
       "version_minor": 0
      },
      "text/plain": [
       "  0%|          | 0/9 [00:00<?, ?it/s]"
      ]
     },
     "metadata": {},
     "output_type": "display_data"
    },
    {
     "data": {
      "application/vnd.jupyter.widget-view+json": {
       "model_id": "49ac7d2e55604a4f89accad133ef148f",
       "version_major": 2,
       "version_minor": 0
      },
      "text/plain": [
       "  0%|          | 0/9 [00:00<?, ?it/s]"
      ]
     },
     "metadata": {},
     "output_type": "display_data"
    },
    {
     "data": {
      "application/vnd.jupyter.widget-view+json": {
       "model_id": "44fe5c5da51946509f7a98f0e714d874",
       "version_major": 2,
       "version_minor": 0
      },
      "text/plain": [
       "  0%|          | 0/9 [00:00<?, ?it/s]"
      ]
     },
     "metadata": {},
     "output_type": "display_data"
    },
    {
     "data": {
      "application/vnd.jupyter.widget-view+json": {
       "model_id": "cfb6943ff0e445cab0238cfb98ddde40",
       "version_major": 2,
       "version_minor": 0
      },
      "text/plain": [
       "  0%|          | 0/9 [00:00<?, ?it/s]"
      ]
     },
     "metadata": {},
     "output_type": "display_data"
    },
    {
     "data": {
      "application/vnd.jupyter.widget-view+json": {
       "model_id": "acfae98b1eee4c689e529f6250263a38",
       "version_major": 2,
       "version_minor": 0
      },
      "text/plain": [
       "  0%|          | 0/9 [00:00<?, ?it/s]"
      ]
     },
     "metadata": {},
     "output_type": "display_data"
    },
    {
     "data": {
      "application/vnd.jupyter.widget-view+json": {
       "model_id": "21f0e38fa78a42348468d8b625c288f9",
       "version_major": 2,
       "version_minor": 0
      },
      "text/plain": [
       "  0%|          | 0/9 [00:00<?, ?it/s]"
      ]
     },
     "metadata": {},
     "output_type": "display_data"
    },
    {
     "data": {
      "application/vnd.jupyter.widget-view+json": {
       "model_id": "8e62d560176245059177055e6f6cfa58",
       "version_major": 2,
       "version_minor": 0
      },
      "text/plain": [
       "  0%|          | 0/9 [00:00<?, ?it/s]"
      ]
     },
     "metadata": {},
     "output_type": "display_data"
    },
    {
     "data": {
      "application/vnd.jupyter.widget-view+json": {
       "model_id": "71422a730ee2401abb2f811ff0c445b4",
       "version_major": 2,
       "version_minor": 0
      },
      "text/plain": [
       "  0%|          | 0/9 [00:00<?, ?it/s]"
      ]
     },
     "metadata": {},
     "output_type": "display_data"
    },
    {
     "data": {
      "application/vnd.jupyter.widget-view+json": {
       "model_id": "1a4f2aabd5964563aad37f2bc4cce9d8",
       "version_major": 2,
       "version_minor": 0
      },
      "text/plain": [
       "  0%|          | 0/9 [00:00<?, ?it/s]"
      ]
     },
     "metadata": {},
     "output_type": "display_data"
    },
    {
     "data": {
      "application/vnd.jupyter.widget-view+json": {
       "model_id": "4e6ad67eaec04ec4a16f96194d324ea1",
       "version_major": 2,
       "version_minor": 0
      },
      "text/plain": [
       "  0%|          | 0/9 [00:00<?, ?it/s]"
      ]
     },
     "metadata": {},
     "output_type": "display_data"
    },
    {
     "data": {
      "application/vnd.jupyter.widget-view+json": {
       "model_id": "9b48c2b12e8045688968363c74c743cc",
       "version_major": 2,
       "version_minor": 0
      },
      "text/plain": [
       "  0%|          | 0/9 [00:00<?, ?it/s]"
      ]
     },
     "metadata": {},
     "output_type": "display_data"
    },
    {
     "data": {
      "application/vnd.jupyter.widget-view+json": {
       "model_id": "2c7fcb19a7594ae58b207a36254c9105",
       "version_major": 2,
       "version_minor": 0
      },
      "text/plain": [
       "  0%|          | 0/9 [00:00<?, ?it/s]"
      ]
     },
     "metadata": {},
     "output_type": "display_data"
    },
    {
     "data": {
      "application/vnd.jupyter.widget-view+json": {
       "model_id": "397253a04b894284b3e9e4329653f63e",
       "version_major": 2,
       "version_minor": 0
      },
      "text/plain": [
       "  0%|          | 0/9 [00:00<?, ?it/s]"
      ]
     },
     "metadata": {},
     "output_type": "display_data"
    },
    {
     "data": {
      "application/vnd.jupyter.widget-view+json": {
       "model_id": "29b1c819d1dc47359ab853c250716a7c",
       "version_major": 2,
       "version_minor": 0
      },
      "text/plain": [
       "  0%|          | 0/9 [00:00<?, ?it/s]"
      ]
     },
     "metadata": {},
     "output_type": "display_data"
    },
    {
     "data": {
      "application/vnd.jupyter.widget-view+json": {
       "model_id": "6c23f60ccc664d7eaa45bfe31617c392",
       "version_major": 2,
       "version_minor": 0
      },
      "text/plain": [
       "  0%|          | 0/9 [00:00<?, ?it/s]"
      ]
     },
     "metadata": {},
     "output_type": "display_data"
    },
    {
     "data": {
      "application/vnd.jupyter.widget-view+json": {
       "model_id": "3e6ce12f112b4a7db3ba66ee36d618a8",
       "version_major": 2,
       "version_minor": 0
      },
      "text/plain": [
       "  0%|          | 0/9 [00:00<?, ?it/s]"
      ]
     },
     "metadata": {},
     "output_type": "display_data"
    },
    {
     "name": "stdout",
     "output_type": "stream",
     "text": [
      "RL012_1024x1024_hoechst_zoomlevel_1_gaussian_blur_2_20220103_185956.h5\n"
     ]
    },
    {
     "data": {
      "application/vnd.jupyter.widget-view+json": {
       "model_id": "e58b43c263074fa0b447abd9abac2805",
       "version_major": 2,
       "version_minor": 0
      },
      "text/plain": [
       "  0%|          | 0/9 [00:00<?, ?it/s]"
      ]
     },
     "metadata": {},
     "output_type": "display_data"
    },
    {
     "data": {
      "application/vnd.jupyter.widget-view+json": {
       "model_id": "06ff52958c314d41bfb9b1f1f5760812",
       "version_major": 2,
       "version_minor": 0
      },
      "text/plain": [
       "  0%|          | 0/9 [00:00<?, ?it/s]"
      ]
     },
     "metadata": {},
     "output_type": "display_data"
    },
    {
     "data": {
      "application/vnd.jupyter.widget-view+json": {
       "model_id": "02257c8921494cfba675b4b44cc5eec5",
       "version_major": 2,
       "version_minor": 0
      },
      "text/plain": [
       "  0%|          | 0/9 [00:00<?, ?it/s]"
      ]
     },
     "metadata": {},
     "output_type": "display_data"
    },
    {
     "data": {
      "application/vnd.jupyter.widget-view+json": {
       "model_id": "c5f2bfeb67ac47d19248536fb4c61c8c",
       "version_major": 2,
       "version_minor": 0
      },
      "text/plain": [
       "  0%|          | 0/9 [00:00<?, ?it/s]"
      ]
     },
     "metadata": {},
     "output_type": "display_data"
    },
    {
     "data": {
      "application/vnd.jupyter.widget-view+json": {
       "model_id": "b81d2b50b9864d5fb3916b470b189bf6",
       "version_major": 2,
       "version_minor": 0
      },
      "text/plain": [
       "  0%|          | 0/9 [00:00<?, ?it/s]"
      ]
     },
     "metadata": {},
     "output_type": "display_data"
    },
    {
     "data": {
      "application/vnd.jupyter.widget-view+json": {
       "model_id": "f413618db4dd4ce082bee2a1bb241083",
       "version_major": 2,
       "version_minor": 0
      },
      "text/plain": [
       "  0%|          | 0/9 [00:00<?, ?it/s]"
      ]
     },
     "metadata": {},
     "output_type": "display_data"
    },
    {
     "data": {
      "application/vnd.jupyter.widget-view+json": {
       "model_id": "198078053aa94555a31de8acfebe1d1a",
       "version_major": 2,
       "version_minor": 0
      },
      "text/plain": [
       "  0%|          | 0/9 [00:00<?, ?it/s]"
      ]
     },
     "metadata": {},
     "output_type": "display_data"
    },
    {
     "data": {
      "application/vnd.jupyter.widget-view+json": {
       "model_id": "884edc1d936e46e6ae7598c9e65e8d78",
       "version_major": 2,
       "version_minor": 0
      },
      "text/plain": [
       "  0%|          | 0/9 [00:00<?, ?it/s]"
      ]
     },
     "metadata": {},
     "output_type": "display_data"
    },
    {
     "name": "stderr",
     "output_type": "stream",
     "text": [
      "IOPub message rate exceeded.\n",
      "The notebook server will temporarily stop sending output\n",
      "to the client in order to avoid crashing it.\n",
      "To change this limit, set the config variable\n",
      "`--NotebookApp.iopub_msg_rate_limit`.\n",
      "\n",
      "Current values:\n",
      "NotebookApp.iopub_msg_rate_limit=1000.0 (msgs/sec)\n",
      "NotebookApp.rate_limit_window=3.0 (secs)\n",
      "\n"
     ]
    },
    {
     "data": {
      "application/vnd.jupyter.widget-view+json": {
       "model_id": "47bffa60b3fb4b55991c5e2814d43640",
       "version_major": 2,
       "version_minor": 0
      },
      "text/plain": [
       "  0%|          | 0/9 [00:00<?, ?it/s]"
      ]
     },
     "metadata": {},
     "output_type": "display_data"
    },
    {
     "data": {
      "application/vnd.jupyter.widget-view+json": {
       "model_id": "7d3fdbfb322c48b9818f2553d3d7d03e",
       "version_major": 2,
       "version_minor": 0
      },
      "text/plain": [
       "  0%|          | 0/9 [00:00<?, ?it/s]"
      ]
     },
     "metadata": {},
     "output_type": "display_data"
    },
    {
     "data": {
      "application/vnd.jupyter.widget-view+json": {
       "model_id": "42a54eec2d544262a8cfab0a00faa862",
       "version_major": 2,
       "version_minor": 0
      },
      "text/plain": [
       "  0%|          | 0/9 [00:00<?, ?it/s]"
      ]
     },
     "metadata": {},
     "output_type": "display_data"
    },
    {
     "data": {
      "application/vnd.jupyter.widget-view+json": {
       "model_id": "0f39fd3363a34c2ab7f97cce7a441974",
       "version_major": 2,
       "version_minor": 0
      },
      "text/plain": [
       "  0%|          | 0/9 [00:00<?, ?it/s]"
      ]
     },
     "metadata": {},
     "output_type": "display_data"
    },
    {
     "data": {
      "application/vnd.jupyter.widget-view+json": {
       "model_id": "30a199e78b464057874267b9eba95225",
       "version_major": 2,
       "version_minor": 0
      },
      "text/plain": [
       "  0%|          | 0/9 [00:00<?, ?it/s]"
      ]
     },
     "metadata": {},
     "output_type": "display_data"
    },
    {
     "data": {
      "application/vnd.jupyter.widget-view+json": {
       "model_id": "88312abecc5d4b2db6c8f7f1a3045539",
       "version_major": 2,
       "version_minor": 0
      },
      "text/plain": [
       "  0%|          | 0/9 [00:00<?, ?it/s]"
      ]
     },
     "metadata": {},
     "output_type": "display_data"
    },
    {
     "data": {
      "application/vnd.jupyter.widget-view+json": {
       "model_id": "6c2805beb0ea4569a994d9d49e5b6f34",
       "version_major": 2,
       "version_minor": 0
      },
      "text/plain": [
       "  0%|          | 0/9 [00:00<?, ?it/s]"
      ]
     },
     "metadata": {},
     "output_type": "display_data"
    },
    {
     "data": {
      "application/vnd.jupyter.widget-view+json": {
       "model_id": "64c676596f7c488ebad2c2542c3b5eae",
       "version_major": 2,
       "version_minor": 0
      },
      "text/plain": [
       "  0%|          | 0/9 [00:00<?, ?it/s]"
      ]
     },
     "metadata": {},
     "output_type": "display_data"
    },
    {
     "data": {
      "application/vnd.jupyter.widget-view+json": {
       "model_id": "d7c05ed21ab544fab4fdd46fdef4d1cb",
       "version_major": 2,
       "version_minor": 0
      },
      "text/plain": [
       "  0%|          | 0/9 [00:00<?, ?it/s]"
      ]
     },
     "metadata": {},
     "output_type": "display_data"
    },
    {
     "data": {
      "application/vnd.jupyter.widget-view+json": {
       "model_id": "b7af3a355aa74ce3a1b5c37708bec940",
       "version_major": 2,
       "version_minor": 0
      },
      "text/plain": [
       "  0%|          | 0/9 [00:00<?, ?it/s]"
      ]
     },
     "metadata": {},
     "output_type": "display_data"
    },
    {
     "data": {
      "application/vnd.jupyter.widget-view+json": {
       "model_id": "5c49ff2191c84c70ba4eabd3649f830d",
       "version_major": 2,
       "version_minor": 0
      },
      "text/plain": [
       "  0%|          | 0/9 [00:00<?, ?it/s]"
      ]
     },
     "metadata": {},
     "output_type": "display_data"
    },
    {
     "data": {
      "application/vnd.jupyter.widget-view+json": {
       "model_id": "d103bb2335ba418b9d11d97b45649a46",
       "version_major": 2,
       "version_minor": 0
      },
      "text/plain": [
       "  0%|          | 0/9 [00:00<?, ?it/s]"
      ]
     },
     "metadata": {},
     "output_type": "display_data"
    },
    {
     "data": {
      "application/vnd.jupyter.widget-view+json": {
       "model_id": "c876c2a0f8f24b12ae85228662925a3e",
       "version_major": 2,
       "version_minor": 0
      },
      "text/plain": [
       "  0%|          | 0/9 [00:00<?, ?it/s]"
      ]
     },
     "metadata": {},
     "output_type": "display_data"
    },
    {
     "data": {
      "application/vnd.jupyter.widget-view+json": {
       "model_id": "8c953c552bd2445bbaf0e8901e43fcc0",
       "version_major": 2,
       "version_minor": 0
      },
      "text/plain": [
       "  0%|          | 0/9 [00:00<?, ?it/s]"
      ]
     },
     "metadata": {},
     "output_type": "display_data"
    },
    {
     "data": {
      "application/vnd.jupyter.widget-view+json": {
       "model_id": "308b7c653ecb40e7ae8155a7429d5e70",
       "version_major": 2,
       "version_minor": 0
      },
      "text/plain": [
       "  0%|          | 0/9 [00:00<?, ?it/s]"
      ]
     },
     "metadata": {},
     "output_type": "display_data"
    },
    {
     "data": {
      "application/vnd.jupyter.widget-view+json": {
       "model_id": "d10a85eab64648acbc95312d3476e688",
       "version_major": 2,
       "version_minor": 0
      },
      "text/plain": [
       "  0%|          | 0/9 [00:00<?, ?it/s]"
      ]
     },
     "metadata": {},
     "output_type": "display_data"
    },
    {
     "data": {
      "application/vnd.jupyter.widget-view+json": {
       "model_id": "f4c7b182fae04bffa9a65659e6cbebbc",
       "version_major": 2,
       "version_minor": 0
      },
      "text/plain": [
       "  0%|          | 0/9 [00:00<?, ?it/s]"
      ]
     },
     "metadata": {},
     "output_type": "display_data"
    },
    {
     "data": {
      "application/vnd.jupyter.widget-view+json": {
       "model_id": "e39f169726dd443cb252f1706efe8e9a",
       "version_major": 2,
       "version_minor": 0
      },
      "text/plain": [
       "  0%|          | 0/9 [00:00<?, ?it/s]"
      ]
     },
     "metadata": {},
     "output_type": "display_data"
    },
    {
     "data": {
      "application/vnd.jupyter.widget-view+json": {
       "model_id": "59b4e5435dc9431faa166f69342de8c7",
       "version_major": 2,
       "version_minor": 0
      },
      "text/plain": [
       "  0%|          | 0/9 [00:00<?, ?it/s]"
      ]
     },
     "metadata": {},
     "output_type": "display_data"
    },
    {
     "data": {
      "application/vnd.jupyter.widget-view+json": {
       "model_id": "5e97d18098e444cda6c83a2d73522fff",
       "version_major": 2,
       "version_minor": 0
      },
      "text/plain": [
       "  0%|          | 0/9 [00:00<?, ?it/s]"
      ]
     },
     "metadata": {},
     "output_type": "display_data"
    },
    {
     "data": {
      "application/vnd.jupyter.widget-view+json": {
       "model_id": "c37e7fe611be468089f9fdc6235191f0",
       "version_major": 2,
       "version_minor": 0
      },
      "text/plain": [
       "  0%|          | 0/9 [00:00<?, ?it/s]"
      ]
     },
     "metadata": {},
     "output_type": "display_data"
    },
    {
     "data": {
      "application/vnd.jupyter.widget-view+json": {
       "model_id": "5826200178ff42218ff8a45e5b34f053",
       "version_major": 2,
       "version_minor": 0
      },
      "text/plain": [
       "  0%|          | 0/9 [00:00<?, ?it/s]"
      ]
     },
     "metadata": {},
     "output_type": "display_data"
    },
    {
     "data": {
      "application/vnd.jupyter.widget-view+json": {
       "model_id": "8716f4191e5e485e8137f9c5721534f0",
       "version_major": 2,
       "version_minor": 0
      },
      "text/plain": [
       "  0%|          | 0/9 [00:00<?, ?it/s]"
      ]
     },
     "metadata": {},
     "output_type": "display_data"
    },
    {
     "data": {
      "application/vnd.jupyter.widget-view+json": {
       "model_id": "130ebf0cd2954d58b397d8b041ee3e15",
       "version_major": 2,
       "version_minor": 0
      },
      "text/plain": [
       "  0%|          | 0/9 [00:00<?, ?it/s]"
      ]
     },
     "metadata": {},
     "output_type": "display_data"
    },
    {
     "data": {
      "application/vnd.jupyter.widget-view+json": {
       "model_id": "a8de095fe2c14ee38504969e03f1593f",
       "version_major": 2,
       "version_minor": 0
      },
      "text/plain": [
       "  0%|          | 0/9 [00:00<?, ?it/s]"
      ]
     },
     "metadata": {},
     "output_type": "display_data"
    },
    {
     "data": {
      "application/vnd.jupyter.widget-view+json": {
       "model_id": "10dfd091c3084f75be1014b8dd4e66ec",
       "version_major": 2,
       "version_minor": 0
      },
      "text/plain": [
       "  0%|          | 0/9 [00:00<?, ?it/s]"
      ]
     },
     "metadata": {},
     "output_type": "display_data"
    },
    {
     "data": {
      "application/vnd.jupyter.widget-view+json": {
       "model_id": "16410748538f4df488d922ad7ba35709",
       "version_major": 2,
       "version_minor": 0
      },
      "text/plain": [
       "  0%|          | 0/9 [00:00<?, ?it/s]"
      ]
     },
     "metadata": {},
     "output_type": "display_data"
    },
    {
     "data": {
      "application/vnd.jupyter.widget-view+json": {
       "model_id": "71850733eeb9490783b124f690035484",
       "version_major": 2,
       "version_minor": 0
      },
      "text/plain": [
       "  0%|          | 0/9 [00:00<?, ?it/s]"
      ]
     },
     "metadata": {},
     "output_type": "display_data"
    },
    {
     "data": {
      "application/vnd.jupyter.widget-view+json": {
       "model_id": "d0729f4bedfa403ea9771f394481851b",
       "version_major": 2,
       "version_minor": 0
      },
      "text/plain": [
       "  0%|          | 0/9 [00:00<?, ?it/s]"
      ]
     },
     "metadata": {},
     "output_type": "display_data"
    },
    {
     "data": {
      "application/vnd.jupyter.widget-view+json": {
       "model_id": "c48a79d2be614d688fef1032baa9309d",
       "version_major": 2,
       "version_minor": 0
      },
      "text/plain": [
       "  0%|          | 0/9 [00:00<?, ?it/s]"
      ]
     },
     "metadata": {},
     "output_type": "display_data"
    },
    {
     "data": {
      "application/vnd.jupyter.widget-view+json": {
       "model_id": "17c5b1673a7e41b0ae7c8dd3d647a3e0",
       "version_major": 2,
       "version_minor": 0
      },
      "text/plain": [
       "  0%|          | 0/9 [00:00<?, ?it/s]"
      ]
     },
     "metadata": {},
     "output_type": "display_data"
    },
    {
     "data": {
      "application/vnd.jupyter.widget-view+json": {
       "model_id": "3ba84916f093468a90dea38760e16a87",
       "version_major": 2,
       "version_minor": 0
      },
      "text/plain": [
       "  0%|          | 0/9 [00:00<?, ?it/s]"
      ]
     },
     "metadata": {},
     "output_type": "display_data"
    },
    {
     "data": {
      "application/vnd.jupyter.widget-view+json": {
       "model_id": "d2e6ef39ed5d4d66be2fd07f1d6a7e19",
       "version_major": 2,
       "version_minor": 0
      },
      "text/plain": [
       "  0%|          | 0/9 [00:00<?, ?it/s]"
      ]
     },
     "metadata": {},
     "output_type": "display_data"
    },
    {
     "data": {
      "application/vnd.jupyter.widget-view+json": {
       "model_id": "2483da510b3844ef9910d9a464df20ec",
       "version_major": 2,
       "version_minor": 0
      },
      "text/plain": [
       "  0%|          | 0/9 [00:00<?, ?it/s]"
      ]
     },
     "metadata": {},
     "output_type": "display_data"
    },
    {
     "data": {
      "application/vnd.jupyter.widget-view+json": {
       "model_id": "eb0a957c723f4e18ae3b4f39cff42108",
       "version_major": 2,
       "version_minor": 0
      },
      "text/plain": [
       "  0%|          | 0/9 [00:00<?, ?it/s]"
      ]
     },
     "metadata": {},
     "output_type": "display_data"
    },
    {
     "data": {
      "application/vnd.jupyter.widget-view+json": {
       "model_id": "99f5c5c4455b42f289d79ea9c2c3ed05",
       "version_major": 2,
       "version_minor": 0
      },
      "text/plain": [
       "  0%|          | 0/9 [00:00<?, ?it/s]"
      ]
     },
     "metadata": {},
     "output_type": "display_data"
    },
    {
     "data": {
      "application/vnd.jupyter.widget-view+json": {
       "model_id": "4119425eaf7f4e3cb211d113bc803ada",
       "version_major": 2,
       "version_minor": 0
      },
      "text/plain": [
       "  0%|          | 0/9 [00:00<?, ?it/s]"
      ]
     },
     "metadata": {},
     "output_type": "display_data"
    },
    {
     "name": "stdout",
     "output_type": "stream",
     "text": [
      "RL012_1024x1024_hoechst_zoomlevel_1_gaussian_blur_5_20220102_165203.h5\n"
     ]
    },
    {
     "data": {
      "application/vnd.jupyter.widget-view+json": {
       "model_id": "9454c00d49744c15b7f748f70389e468",
       "version_major": 2,
       "version_minor": 0
      },
      "text/plain": [
       "  0%|          | 0/9 [00:00<?, ?it/s]"
      ]
     },
     "metadata": {},
     "output_type": "display_data"
    },
    {
     "data": {
      "application/vnd.jupyter.widget-view+json": {
       "model_id": "5a6d0acf1592489cb25e9b462e8bd1d7",
       "version_major": 2,
       "version_minor": 0
      },
      "text/plain": [
       "  0%|          | 0/9 [00:00<?, ?it/s]"
      ]
     },
     "metadata": {},
     "output_type": "display_data"
    },
    {
     "data": {
      "application/vnd.jupyter.widget-view+json": {
       "model_id": "37777fc3c93f491c9aa23ca05c82f010",
       "version_major": 2,
       "version_minor": 0
      },
      "text/plain": [
       "  0%|          | 0/9 [00:00<?, ?it/s]"
      ]
     },
     "metadata": {},
     "output_type": "display_data"
    },
    {
     "data": {
      "application/vnd.jupyter.widget-view+json": {
       "model_id": "914c8e4451d04ef2879900435d5ac09d",
       "version_major": 2,
       "version_minor": 0
      },
      "text/plain": [
       "  0%|          | 0/9 [00:00<?, ?it/s]"
      ]
     },
     "metadata": {},
     "output_type": "display_data"
    },
    {
     "data": {
      "application/vnd.jupyter.widget-view+json": {
       "model_id": "fa11033c74fc4f0c92001b13af10ca03",
       "version_major": 2,
       "version_minor": 0
      },
      "text/plain": [
       "  0%|          | 0/9 [00:00<?, ?it/s]"
      ]
     },
     "metadata": {},
     "output_type": "display_data"
    },
    {
     "data": {
      "application/vnd.jupyter.widget-view+json": {
       "model_id": "afa895860a8d4d9cb29e74707114cecb",
       "version_major": 2,
       "version_minor": 0
      },
      "text/plain": [
       "  0%|          | 0/9 [00:00<?, ?it/s]"
      ]
     },
     "metadata": {},
     "output_type": "display_data"
    },
    {
     "data": {
      "application/vnd.jupyter.widget-view+json": {
       "model_id": "abff1a8ee07a4bb7930c096e730eb913",
       "version_major": 2,
       "version_minor": 0
      },
      "text/plain": [
       "  0%|          | 0/9 [00:00<?, ?it/s]"
      ]
     },
     "metadata": {},
     "output_type": "display_data"
    },
    {
     "data": {
      "application/vnd.jupyter.widget-view+json": {
       "model_id": "49f14a07fc0d44a3af9a1f71558dff7c",
       "version_major": 2,
       "version_minor": 0
      },
      "text/plain": [
       "  0%|          | 0/9 [00:00<?, ?it/s]"
      ]
     },
     "metadata": {},
     "output_type": "display_data"
    },
    {
     "data": {
      "application/vnd.jupyter.widget-view+json": {
       "model_id": "1b99d7af2a1a4436a2a4b24308fa9c7e",
       "version_major": 2,
       "version_minor": 0
      },
      "text/plain": [
       "  0%|          | 0/9 [00:00<?, ?it/s]"
      ]
     },
     "metadata": {},
     "output_type": "display_data"
    },
    {
     "data": {
      "application/vnd.jupyter.widget-view+json": {
       "model_id": "567cbbd4efc54c69b959aabeabe56069",
       "version_major": 2,
       "version_minor": 0
      },
      "text/plain": [
       "  0%|          | 0/9 [00:00<?, ?it/s]"
      ]
     },
     "metadata": {},
     "output_type": "display_data"
    },
    {
     "data": {
      "application/vnd.jupyter.widget-view+json": {
       "model_id": "04183cf7d90746e5ab24cd9023c1c488",
       "version_major": 2,
       "version_minor": 0
      },
      "text/plain": [
       "  0%|          | 0/9 [00:00<?, ?it/s]"
      ]
     },
     "metadata": {},
     "output_type": "display_data"
    },
    {
     "data": {
      "application/vnd.jupyter.widget-view+json": {
       "model_id": "6bc3cf5661764c938271d944460e9f2d",
       "version_major": 2,
       "version_minor": 0
      },
      "text/plain": [
       "  0%|          | 0/9 [00:00<?, ?it/s]"
      ]
     },
     "metadata": {},
     "output_type": "display_data"
    },
    {
     "data": {
      "application/vnd.jupyter.widget-view+json": {
       "model_id": "3ca477a3e48d4bfea2f09d319827c3cd",
       "version_major": 2,
       "version_minor": 0
      },
      "text/plain": [
       "  0%|          | 0/9 [00:00<?, ?it/s]"
      ]
     },
     "metadata": {},
     "output_type": "display_data"
    },
    {
     "data": {
      "application/vnd.jupyter.widget-view+json": {
       "model_id": "6f706d9260d044a48f366a6e744d9f56",
       "version_major": 2,
       "version_minor": 0
      },
      "text/plain": [
       "  0%|          | 0/9 [00:00<?, ?it/s]"
      ]
     },
     "metadata": {},
     "output_type": "display_data"
    },
    {
     "data": {
      "application/vnd.jupyter.widget-view+json": {
       "model_id": "f61d5de43d634fd4974945209cc98dba",
       "version_major": 2,
       "version_minor": 0
      },
      "text/plain": [
       "  0%|          | 0/9 [00:00<?, ?it/s]"
      ]
     },
     "metadata": {},
     "output_type": "display_data"
    },
    {
     "data": {
      "application/vnd.jupyter.widget-view+json": {
       "model_id": "d720b2e1aa9641e1acbb54cbadcddee1",
       "version_major": 2,
       "version_minor": 0
      },
      "text/plain": [
       "  0%|          | 0/9 [00:00<?, ?it/s]"
      ]
     },
     "metadata": {},
     "output_type": "display_data"
    },
    {
     "data": {
      "application/vnd.jupyter.widget-view+json": {
       "model_id": "406b7b3601084227894e25aa519b5145",
       "version_major": 2,
       "version_minor": 0
      },
      "text/plain": [
       "  0%|          | 0/9 [00:00<?, ?it/s]"
      ]
     },
     "metadata": {},
     "output_type": "display_data"
    },
    {
     "data": {
      "application/vnd.jupyter.widget-view+json": {
       "model_id": "55b5aa96182345f19c9595d8da71dee5",
       "version_major": 2,
       "version_minor": 0
      },
      "text/plain": [
       "  0%|          | 0/9 [00:00<?, ?it/s]"
      ]
     },
     "metadata": {},
     "output_type": "display_data"
    },
    {
     "data": {
      "application/vnd.jupyter.widget-view+json": {
       "model_id": "bc2db542adb94fc98fc5dad20dc8e7ad",
       "version_major": 2,
       "version_minor": 0
      },
      "text/plain": [
       "  0%|          | 0/9 [00:00<?, ?it/s]"
      ]
     },
     "metadata": {},
     "output_type": "display_data"
    },
    {
     "data": {
      "application/vnd.jupyter.widget-view+json": {
       "model_id": "6da65cf1463e4b578ca4120737c98aeb",
       "version_major": 2,
       "version_minor": 0
      },
      "text/plain": [
       "  0%|          | 0/9 [00:00<?, ?it/s]"
      ]
     },
     "metadata": {},
     "output_type": "display_data"
    },
    {
     "data": {
      "application/vnd.jupyter.widget-view+json": {
       "model_id": "4e5776f78ea548c7beb9b0da7f43ee05",
       "version_major": 2,
       "version_minor": 0
      },
      "text/plain": [
       "  0%|          | 0/9 [00:00<?, ?it/s]"
      ]
     },
     "metadata": {},
     "output_type": "display_data"
    },
    {
     "data": {
      "application/vnd.jupyter.widget-view+json": {
       "model_id": "bf64758cbadb4fe9bda881ef6c979bee",
       "version_major": 2,
       "version_minor": 0
      },
      "text/plain": [
       "  0%|          | 0/9 [00:00<?, ?it/s]"
      ]
     },
     "metadata": {},
     "output_type": "display_data"
    },
    {
     "data": {
      "application/vnd.jupyter.widget-view+json": {
       "model_id": "597ff0edde70437eb4f6491d4d9c83f8",
       "version_major": 2,
       "version_minor": 0
      },
      "text/plain": [
       "  0%|          | 0/9 [00:00<?, ?it/s]"
      ]
     },
     "metadata": {},
     "output_type": "display_data"
    },
    {
     "data": {
      "application/vnd.jupyter.widget-view+json": {
       "model_id": "5d5a1322858d4642a80f46beb11e96fe",
       "version_major": 2,
       "version_minor": 0
      },
      "text/plain": [
       "  0%|          | 0/9 [00:00<?, ?it/s]"
      ]
     },
     "metadata": {},
     "output_type": "display_data"
    },
    {
     "data": {
      "application/vnd.jupyter.widget-view+json": {
       "model_id": "a9f07ac4f9a24fb1bb30ea24ad456db9",
       "version_major": 2,
       "version_minor": 0
      },
      "text/plain": [
       "  0%|          | 0/9 [00:00<?, ?it/s]"
      ]
     },
     "metadata": {},
     "output_type": "display_data"
    },
    {
     "data": {
      "application/vnd.jupyter.widget-view+json": {
       "model_id": "a48a707eca6f4c2fa072fb6e216ac007",
       "version_major": 2,
       "version_minor": 0
      },
      "text/plain": [
       "  0%|          | 0/9 [00:00<?, ?it/s]"
      ]
     },
     "metadata": {},
     "output_type": "display_data"
    },
    {
     "data": {
      "application/vnd.jupyter.widget-view+json": {
       "model_id": "7c22085f633a40fc86bf2cdfa6710023",
       "version_major": 2,
       "version_minor": 0
      },
      "text/plain": [
       "  0%|          | 0/9 [00:00<?, ?it/s]"
      ]
     },
     "metadata": {},
     "output_type": "display_data"
    },
    {
     "data": {
      "application/vnd.jupyter.widget-view+json": {
       "model_id": "e1c82a84acd94db7b764d73abb036dd6",
       "version_major": 2,
       "version_minor": 0
      },
      "text/plain": [
       "  0%|          | 0/9 [00:00<?, ?it/s]"
      ]
     },
     "metadata": {},
     "output_type": "display_data"
    },
    {
     "data": {
      "application/vnd.jupyter.widget-view+json": {
       "model_id": "b439db55ea5644869fd153a948e1e419",
       "version_major": 2,
       "version_minor": 0
      },
      "text/plain": [
       "  0%|          | 0/9 [00:00<?, ?it/s]"
      ]
     },
     "metadata": {},
     "output_type": "display_data"
    },
    {
     "data": {
      "application/vnd.jupyter.widget-view+json": {
       "model_id": "cf55574292ae4a1c8e7d701234016d7c",
       "version_major": 2,
       "version_minor": 0
      },
      "text/plain": [
       "  0%|          | 0/9 [00:00<?, ?it/s]"
      ]
     },
     "metadata": {},
     "output_type": "display_data"
    },
    {
     "data": {
      "application/vnd.jupyter.widget-view+json": {
       "model_id": "3afd3978b640483fa8d3e936b76f9c3b",
       "version_major": 2,
       "version_minor": 0
      },
      "text/plain": [
       "  0%|          | 0/9 [00:00<?, ?it/s]"
      ]
     },
     "metadata": {},
     "output_type": "display_data"
    },
    {
     "data": {
      "application/vnd.jupyter.widget-view+json": {
       "model_id": "786e324b7f8b4c819173b09e4b4dc08d",
       "version_major": 2,
       "version_minor": 0
      },
      "text/plain": [
       "  0%|          | 0/9 [00:00<?, ?it/s]"
      ]
     },
     "metadata": {},
     "output_type": "display_data"
    },
    {
     "data": {
      "application/vnd.jupyter.widget-view+json": {
       "model_id": "c1ed1fe0fc464b458c2aec17a1082b95",
       "version_major": 2,
       "version_minor": 0
      },
      "text/plain": [
       "  0%|          | 0/9 [00:00<?, ?it/s]"
      ]
     },
     "metadata": {},
     "output_type": "display_data"
    },
    {
     "data": {
      "application/vnd.jupyter.widget-view+json": {
       "model_id": "4aed611bec764990818971071f209433",
       "version_major": 2,
       "version_minor": 0
      },
      "text/plain": [
       "  0%|          | 0/9 [00:00<?, ?it/s]"
      ]
     },
     "metadata": {},
     "output_type": "display_data"
    },
    {
     "data": {
      "application/vnd.jupyter.widget-view+json": {
       "model_id": "8d9a4f77234c49ba98f459acdb3dbd00",
       "version_major": 2,
       "version_minor": 0
      },
      "text/plain": [
       "  0%|          | 0/9 [00:00<?, ?it/s]"
      ]
     },
     "metadata": {},
     "output_type": "display_data"
    },
    {
     "data": {
      "application/vnd.jupyter.widget-view+json": {
       "model_id": "f3945daa4d9b41ee8d6a11acdb6d22f8",
       "version_major": 2,
       "version_minor": 0
      },
      "text/plain": [
       "  0%|          | 0/9 [00:00<?, ?it/s]"
      ]
     },
     "metadata": {},
     "output_type": "display_data"
    },
    {
     "data": {
      "application/vnd.jupyter.widget-view+json": {
       "model_id": "087ba17db10b4dc2b01fa1d5027981aa",
       "version_major": 2,
       "version_minor": 0
      },
      "text/plain": [
       "  0%|          | 0/9 [00:00<?, ?it/s]"
      ]
     },
     "metadata": {},
     "output_type": "display_data"
    },
    {
     "data": {
      "application/vnd.jupyter.widget-view+json": {
       "model_id": "402e821f60dd4645b8e497d56189c3ab",
       "version_major": 2,
       "version_minor": 0
      },
      "text/plain": [
       "  0%|          | 0/9 [00:00<?, ?it/s]"
      ]
     },
     "metadata": {},
     "output_type": "display_data"
    },
    {
     "data": {
      "application/vnd.jupyter.widget-view+json": {
       "model_id": "9a950c7478db4a9f878eb3d4ccd1254f",
       "version_major": 2,
       "version_minor": 0
      },
      "text/plain": [
       "  0%|          | 0/9 [00:00<?, ?it/s]"
      ]
     },
     "metadata": {},
     "output_type": "display_data"
    },
    {
     "data": {
      "application/vnd.jupyter.widget-view+json": {
       "model_id": "7199009357ca4513bad8f8cfd80b890c",
       "version_major": 2,
       "version_minor": 0
      },
      "text/plain": [
       "  0%|          | 0/9 [00:00<?, ?it/s]"
      ]
     },
     "metadata": {},
     "output_type": "display_data"
    },
    {
     "data": {
      "application/vnd.jupyter.widget-view+json": {
       "model_id": "5850a21789ed4acb9be0a67e36a58a23",
       "version_major": 2,
       "version_minor": 0
      },
      "text/plain": [
       "  0%|          | 0/9 [00:00<?, ?it/s]"
      ]
     },
     "metadata": {},
     "output_type": "display_data"
    },
    {
     "data": {
      "application/vnd.jupyter.widget-view+json": {
       "model_id": "71bd06248fd5410b95827df0b4336325",
       "version_major": 2,
       "version_minor": 0
      },
      "text/plain": [
       "  0%|          | 0/9 [00:00<?, ?it/s]"
      ]
     },
     "metadata": {},
     "output_type": "display_data"
    },
    {
     "data": {
      "application/vnd.jupyter.widget-view+json": {
       "model_id": "5b5b8213b6ae4d7d961e31a534e268a8",
       "version_major": 2,
       "version_minor": 0
      },
      "text/plain": [
       "  0%|          | 0/9 [00:00<?, ?it/s]"
      ]
     },
     "metadata": {},
     "output_type": "display_data"
    },
    {
     "data": {
      "application/vnd.jupyter.widget-view+json": {
       "model_id": "eafaefb2153e4671b13143b00718f29d",
       "version_major": 2,
       "version_minor": 0
      },
      "text/plain": [
       "  0%|          | 0/9 [00:00<?, ?it/s]"
      ]
     },
     "metadata": {},
     "output_type": "display_data"
    },
    {
     "data": {
      "application/vnd.jupyter.widget-view+json": {
       "model_id": "4bbf1c1847e344fba6e84a66ece02ab8",
       "version_major": 2,
       "version_minor": 0
      },
      "text/plain": [
       "  0%|          | 0/9 [00:00<?, ?it/s]"
      ]
     },
     "metadata": {},
     "output_type": "display_data"
    },
    {
     "data": {
      "application/vnd.jupyter.widget-view+json": {
       "model_id": "d3ccc1efbb7d493f944c70f7efdaa37e",
       "version_major": 2,
       "version_minor": 0
      },
      "text/plain": [
       "  0%|          | 0/9 [00:00<?, ?it/s]"
      ]
     },
     "metadata": {},
     "output_type": "display_data"
    },
    {
     "data": {
      "application/vnd.jupyter.widget-view+json": {
       "model_id": "6b3278570e1247bb89a951d9a29c7849",
       "version_major": 2,
       "version_minor": 0
      },
      "text/plain": [
       "  0%|          | 0/9 [00:00<?, ?it/s]"
      ]
     },
     "metadata": {},
     "output_type": "display_data"
    },
    {
     "data": {
      "application/vnd.jupyter.widget-view+json": {
       "model_id": "d46f16905c5f4669ad6f341e093c85cd",
       "version_major": 2,
       "version_minor": 0
      },
      "text/plain": [
       "  0%|          | 0/9 [00:00<?, ?it/s]"
      ]
     },
     "metadata": {},
     "output_type": "display_data"
    },
    {
     "data": {
      "application/vnd.jupyter.widget-view+json": {
       "model_id": "61158e97f21a4072b8a4d82c33b28ac4",
       "version_major": 2,
       "version_minor": 0
      },
      "text/plain": [
       "  0%|          | 0/9 [00:00<?, ?it/s]"
      ]
     },
     "metadata": {},
     "output_type": "display_data"
    },
    {
     "data": {
      "application/vnd.jupyter.widget-view+json": {
       "model_id": "1dde0e1b728b4c0ca906eb85b80484f3",
       "version_major": 2,
       "version_minor": 0
      },
      "text/plain": [
       "  0%|          | 0/9 [00:00<?, ?it/s]"
      ]
     },
     "metadata": {},
     "output_type": "display_data"
    },
    {
     "data": {
      "application/vnd.jupyter.widget-view+json": {
       "model_id": "32db9bda2d2a42a7aa5eb6d2eeeb251d",
       "version_major": 2,
       "version_minor": 0
      },
      "text/plain": [
       "  0%|          | 0/9 [00:00<?, ?it/s]"
      ]
     },
     "metadata": {},
     "output_type": "display_data"
    },
    {
     "data": {
      "application/vnd.jupyter.widget-view+json": {
       "model_id": "72f7e47a6b304ba3b1d4edf96de73c28",
       "version_major": 2,
       "version_minor": 0
      },
      "text/plain": [
       "  0%|          | 0/9 [00:00<?, ?it/s]"
      ]
     },
     "metadata": {},
     "output_type": "display_data"
    },
    {
     "data": {
      "application/vnd.jupyter.widget-view+json": {
       "model_id": "be74e8c69de04204aacb5a581a66c989",
       "version_major": 2,
       "version_minor": 0
      },
      "text/plain": [
       "  0%|          | 0/9 [00:00<?, ?it/s]"
      ]
     },
     "metadata": {},
     "output_type": "display_data"
    },
    {
     "data": {
      "application/vnd.jupyter.widget-view+json": {
       "model_id": "ad001c8e917644dab4571fb163ee730a",
       "version_major": 2,
       "version_minor": 0
      },
      "text/plain": [
       "  0%|          | 0/9 [00:00<?, ?it/s]"
      ]
     },
     "metadata": {},
     "output_type": "display_data"
    },
    {
     "data": {
      "application/vnd.jupyter.widget-view+json": {
       "model_id": "aab0e1a0cf0b4f2e94da5a1a636c56fa",
       "version_major": 2,
       "version_minor": 0
      },
      "text/plain": [
       "  0%|          | 0/9 [00:00<?, ?it/s]"
      ]
     },
     "metadata": {},
     "output_type": "display_data"
    },
    {
     "data": {
      "application/vnd.jupyter.widget-view+json": {
       "model_id": "d089c7d3a5394c48a3314cf8d1a59b25",
       "version_major": 2,
       "version_minor": 0
      },
      "text/plain": [
       "  0%|          | 0/9 [00:00<?, ?it/s]"
      ]
     },
     "metadata": {},
     "output_type": "display_data"
    },
    {
     "data": {
      "application/vnd.jupyter.widget-view+json": {
       "model_id": "b560c67a9b83439aad68a0bb8e082451",
       "version_major": 2,
       "version_minor": 0
      },
      "text/plain": [
       "  0%|          | 0/9 [00:00<?, ?it/s]"
      ]
     },
     "metadata": {},
     "output_type": "display_data"
    },
    {
     "data": {
      "application/vnd.jupyter.widget-view+json": {
       "model_id": "4da49b8d9baa4217a4752c39a6cc1b6b",
       "version_major": 2,
       "version_minor": 0
      },
      "text/plain": [
       "  0%|          | 0/9 [00:00<?, ?it/s]"
      ]
     },
     "metadata": {},
     "output_type": "display_data"
    },
    {
     "data": {
      "application/vnd.jupyter.widget-view+json": {
       "model_id": "212205e3459d43e2b76adb264120cf12",
       "version_major": 2,
       "version_minor": 0
      },
      "text/plain": [
       "  0%|          | 0/9 [00:00<?, ?it/s]"
      ]
     },
     "metadata": {},
     "output_type": "display_data"
    },
    {
     "name": "stderr",
     "output_type": "stream",
     "text": [
      "IOPub message rate exceeded.\n",
      "The notebook server will temporarily stop sending output\n",
      "to the client in order to avoid crashing it.\n",
      "To change this limit, set the config variable\n",
      "`--NotebookApp.iopub_msg_rate_limit`.\n",
      "\n",
      "Current values:\n",
      "NotebookApp.iopub_msg_rate_limit=1000.0 (msgs/sec)\n",
      "NotebookApp.rate_limit_window=3.0 (secs)\n",
      "\n"
     ]
    }
   ],
   "source": [
    "# Timestamp\n",
    "timestamp = datetime.now().strftime(\"%Y%m%d\")\n",
    "\n",
    "# .csv file name\n",
    "filename = f\"quant_analysis_{timestamp}.csv\"\n",
    "\n",
    "# Make new df for .csv file\n",
    "df = pd.DataFrame()\n",
    "\n",
    "for weights in weights_array:\n",
    "    print(weights)\n",
    "    if with_callbacks:\n",
    "        print('Clipping:            ', adjust_clipping)\n",
    "        print()\n",
    "    \n",
    "    for threshold in tqdm(threshold_val_array):\n",
    "        if with_callbacks:\n",
    "            print('Threshold:            ', threshold)\n",
    "            print()\n",
    "\n",
    "        for sharpness_level in tqdm(adjust_sharpness_level_array):\n",
    "            if with_callbacks:\n",
    "                print('Sharpness:           ', adjust_sharpness,'(level:',sharpness_level,')')\n",
    "            \n",
    "            for contrast_level in tqdm(adjust_contrast_level_array):\n",
    "                if with_callbacks:\n",
    "                    print('Contrast:            ', adjust_contrast,'(level:',contrast_level,')')\n",
    "            \n",
    "                # Load weights_blurred\n",
    "                fp_weights = Path('./weights/'+weights)\n",
    "                model.load_weights(fp_weights.as_posix())\n",
    "\n",
    "                # Make figure\n",
    "                %matplotlib widget\n",
    "\n",
    "                for z, df_sec in df_tst_filtered.groupby('z'):\n",
    "\n",
    "                    # Create dataset for section\n",
    "                    fps_src = df_sec['source']\n",
    "\n",
    "                    ds_section = clemnet.create_dataset(fps_src, shuffle=False, buffer_size=None,\n",
    "                                                        repeat=False, shape_src=shape_src, shape_tgt=shape_tgt, augmentations={'invert': adjust_invert},\n",
    "                                                        pad=pad, padding=padding, batch=True, batch_size=1,\n",
    "                                                        prefetch=True, n_cores=n_cores)\n",
    "                    len_ds = tf.data.experimental.cardinality(ds_section).numpy()\n",
    "\n",
    "                    # Create empty arrays for full section images\n",
    "                    batch_EM = next(iter(ds_section))\n",
    "                    shape = ((df_sec['y'].max()-df_sec['y'].min() + 1) * batch_EM.shape[1],\n",
    "                             (df_sec['x'].max()-df_sec['x'].min() + 1) * batch_EM.shape[2])\n",
    "\n",
    "                    section_EM = np.empty(shape)\n",
    "                    section_PR = np.empty(shape)\n",
    "                    section_mask = np.empty(shape)\n",
    "                    section_PR_thres_1 = np.empty(shape)\n",
    "                    section_PR_thres_2 = np.empty(shape)\n",
    "\n",
    "                    # Loop through individual EM and FM tiles\n",
    "                    for (i, row), (batch_EM) in zip(df_sec.iterrows(), ds_section):\n",
    "       \n",
    "                        file_name_tile = fps_src[i].rsplit('/', 1)[-1]\n",
    "                        if active_mask == 'FASTEM-0':\n",
    "                            fps_src_mask = \"/home/mabels/CLEMnet/data/FASTEM/masks/\"+ str(z) +\"/\" + file_name_tile\n",
    "                            img_mask = Image.open(fps_src_mask)\n",
    "                            img_mask = np.asarray(img_mask)/255\n",
    "                            img_mask = img_mask[:,:,0]*-1+1\n",
    "\n",
    "                        if active_mask == 'OSTEM-1':\n",
    "                            # ---------------------------------------------------------------\n",
    "                            fps_src_mask = \"/home/mabels/CLEMnet/data/OSTEM/masks/0/mask/mask OSTEM.png\"\n",
    "                            img_mask = Image.open(fps_src_mask)\n",
    "\n",
    "                            img_mask = np.asarray(img_mask)/255\n",
    "                            y = (row['y']-fltr_manual_original_mask_size[1][0])*scale\n",
    "                            x = (row['x']-fltr_manual_original_mask_size[0][0])*scale\n",
    "                            w = scale\n",
    "                            h = scale\n",
    "\n",
    "                            img_mask = img_mask[y:y+h, x:x+w, 0]\n",
    "                            img_mask = resize(img_mask, (1024,1024))\n",
    "                            img_mask = img_mask[:,:]*-1+1\n",
    "\n",
    "                            # -------------------------------------        \n",
    "                            img_OSTEM = batch_EM[0,:,:,0].numpy()\n",
    "                            # -------------------------------------\n",
    "\n",
    "\n",
    "                        img_OSTEM = batch_EM[0,:,:,0].numpy()\n",
    "                        img_BSE = img_as_float(io.imread(fps_BSE[i]))\n",
    "\n",
    "                        # Image PIL enhancements: Sharpness, Contrast, Resizing\n",
    "                        # ------------------------------------------------\n",
    "                        if adjust_PIL:\n",
    "                            fp_OSTEM = fps_OSTEM[i]\n",
    "                            im = Image.open(fp_OSTEM)\n",
    "\n",
    "                            if adjust_invert:\n",
    "                                im = ImageOps.invert(im)\n",
    "                            im.thumbnail((200,200),Image.ANTIALIAS)\n",
    "                            if adjust_sharpness:\n",
    "                                im = ImageEnhance.Sharpness(im)\n",
    "                                im = im.enhance(sharpness_level)\n",
    "                            if adjust_contrast:\n",
    "                                im = ImageEnhance.Contrast(im)\n",
    "                                im = im.enhance(contrast_level)\n",
    "                            # im = ImageEnhance.Brightness(im)\n",
    "                            # im = im.enhance(0.0)\n",
    "                            img_OSTEM = np.asarray(im)/255\n",
    "                            img_OSTEM = resize(img_OSTEM, (1024,1024))\n",
    "\n",
    "                        # Mean & Std Adjustments + Clipping\n",
    "                        # ------------------------------------------------\n",
    "                        if adjust_mean_std:\n",
    "                            # ----------------------------------\n",
    "                            # ----------------------------------\n",
    "                            mean_OSTEM_3 = img_OSTEM.mean()\n",
    "                            mean_BSE_3 = img_BSE.mean()\n",
    "                            std_OSTEM_3 = img_OSTEM.std()\n",
    "                            std_BSE_3 = img_BSE.std()\n",
    "\n",
    "                            mean_OSTEM = [mean_OSTEM_1, mean_OSTEM_2, mean_OSTEM_3]\n",
    "                            mean_BSE = [mean_BSE_1, mean_BSE_2, mean_BSE_3]\n",
    "                            std_OSTEM = [std_OSTEM_1, std_OSTEM_2, std_OSTEM_3]\n",
    "                            std_BSE = [std_BSE_1, std_BSE_2, std_BSE_3]\n",
    "                            \n",
    "                            # select one of 3 possible mean/std sets\n",
    "                            k=1\n",
    "\n",
    "                            # ----------------------------------\n",
    "                            # ----------------------------------\n",
    "                            img_OSTEM = mean_std_adjustments(mean_OSTEM[k], std_OSTEM[k], mean_BSE[k], std_BSE[k], img_OSTEM)\n",
    "                        if adjust_clipping:\n",
    "                            img_OSTEM = np.clip(img_OSTEM, 0, 1)\n",
    "\n",
    "                        # Make prediction\n",
    "                        img_OSTEM_predic = img_OSTEM[np.newaxis,:,:,np.newaxis]\n",
    "                        prediction = model.predict(img_OSTEM_predic, verbose=0)\n",
    "\n",
    "                        pred = prediction[0,:,:,0]\n",
    "                        pred_threshold_1 = prediction[0,:,:,0]\n",
    "                        pred_threshold_2 = prediction[0,:,:,0]\n",
    "\n",
    "                        # Threshold value for mask\n",
    "                        if threshold_mask:\n",
    "                            pred_threshold_1 = np.zeros((256, 256)) + pred*(pred > threshold)\n",
    "                            pred_threshold_2 = np.zeros((256, 256)) + (pred > threshold)\n",
    "\n",
    "                        # Get indices to populate section images\n",
    "                        x1 = (df_sec.loc[i, 'x'] - df_sec['x'].min()) * shape_src[1]\n",
    "                        y1 = (df_sec.loc[i, 'y'] - df_sec['y'].min()) * shape_src[0]\n",
    "                        x2 = (df_sec.loc[i, 'x'] - df_sec['x'].min() + 1) * shape_src[1]\n",
    "                        y2 = (df_sec.loc[i, 'y'] - df_sec['y'].min() + 1) * shape_src[0]\n",
    "\n",
    "                        # Populate section images\n",
    "                        section_EM[y1:y2, x1:x2] = img_OSTEM\n",
    "                        section_PR[y1:y2, x1:x2] = resize(pred, batch_EM.shape[1:3])\n",
    "                        section_mask[y1:y2, x1:x2] = img_mask\n",
    "                        section_mask_overlay = (section_mask)*section_PR\n",
    "\n",
    "                        section_PR_thres_1[y1:y2, x1:x2] = resize(pred_threshold_1, batch_EM.shape[1:3])\n",
    "                        section_mask_overlay_thres_1 = (section_mask)*section_PR_thres_1\n",
    "\n",
    "                        section_PR_thres_2[y1:y2, x1:x2] = resize(pred_threshold_2, batch_EM.shape[1:3])\n",
    "                        section_mask_overlay_thres_2 = (section_mask)*section_PR_thres_2\n",
    "\n",
    "                    # Colorize and overlay section images\n",
    "                    section_PR_ = clemnet.colorize(section_PR/section_PR.max(), T=clemnet.T_HOECHST)\n",
    "                    section_EM_ = color.gray2rgba(section_EM, alpha=True)\n",
    "                    section_PRED = exposure.rescale_intensity(section_EM_ + section_PR_, in_range=(0, 1))\n",
    "\n",
    "                    section_PR_thres_1_ = clemnet.colorize(section_PR_thres_1/section_PR_thres_1.max(), T=clemnet.T_HOECHST)\n",
    "                    section_PRED_thres_1 = exposure.rescale_intensity(section_EM_ + section_PR_thres_1_, in_range=(0, 1))\n",
    "                    section_PR_thres_2_ = clemnet.colorize(section_PR_thres_2/section_PR_thres_2.max(), T=clemnet.T_HOECHST)\n",
    "                    section_PRED_thres_2 = exposure.rescale_intensity(section_EM_ + section_PR_thres_2_, in_range=(0, 1)) \n",
    "\n",
    "                    # Plot\n",
    "                    if preview_prediction:\n",
    "                        output_shape = [d//3 for d in section_EM.shape[:2]] \n",
    "                        fig, axmap = plt.subplots(nrows = 3, ncols=4, figsize=(18, 16))\n",
    "                        fig.subplots_adjust(left=0.01, bottom=0.01, right=None, top=0.999, wspace=0.1, hspace=0.1)\n",
    "                    #     im1 = axmap[0, 0].imshow(resize(section_EM, output_shape), cmap='Greys_r')\n",
    "                        im2 = axmap[0, 0].imshow(resize(section_PRED, output_shape))\n",
    "                        im3 = axmap[0, 1].imshow(resize(section_PR, output_shape), cmap='magma_r')\n",
    "                        im4 = axmap[0, 2].imshow(resize(section_mask, output_shape), cmap='Greys')\n",
    "                        im5 = axmap[0, 3].imshow(resize(section_mask_overlay, output_shape), cmap='Greys')\n",
    "\n",
    "                    #     im1 = axmap[1, 0].imshow(resize(section_EM, output_shape), cmap='Greys_r')\n",
    "                        im2 = axmap[1, 0].imshow(resize(section_PRED_thres_1, output_shape))\n",
    "                        im3 = axmap[1, 1].imshow(resize(section_PR_thres_1, output_shape), cmap='magma_r')\n",
    "                        im4 = axmap[1, 2].imshow(resize(section_mask, output_shape), cmap='Greys')\n",
    "                        im5 = axmap[1, 3].imshow(resize(section_mask_overlay_thres_1, output_shape), cmap='Greys')\n",
    "\n",
    "                    #     im1 = axmap[2, 0].imshow(resize(section_EM, output_shape), cmap='Greys_r')\n",
    "                        im2 = axmap[2, 0].imshow(resize(section_PRED_thres_2, output_shape))\n",
    "                        im3 = axmap[2, 1].imshow(resize(section_PR_thres_2, output_shape), cmap='magma_r')\n",
    "                        im4 = axmap[2, 2].imshow(resize(section_mask, output_shape), cmap='Greys')\n",
    "                        im5 = axmap[2, 3].imshow(resize(section_mask_overlay_thres_2, output_shape), cmap='Greys')\n",
    "\n",
    "                a4 = sum(sum(section_mask_overlay))\n",
    "                a3 = sum(sum(section_mask))\n",
    "                a2 = sum(sum(section_PR))\n",
    "                alpha_raw = a4/a2 if a2 != 0 else 0\n",
    "                beta_raw = a4/a3 if a3 != 0 else 0\n",
    "\n",
    "                b4 = sum(sum(section_mask_overlay_thres_1))\n",
    "                b3 = sum(sum(section_mask))\n",
    "                b2 = sum(sum(section_PR_thres_1))\n",
    "                alpha_thres = b4/b2 if b2 != 0 else 0\n",
    "                beta_thres = b4/b3 if b3 != 0 else 0\n",
    "\n",
    "                c4 = sum(sum(section_mask_overlay_thres_2))\n",
    "                c3 = sum(sum(section_mask))\n",
    "                c2 = sum(sum(section_PR_thres_2))\n",
    "                alpha_binary = c4/c2 if c2 != 0 else 0\n",
    "                beta_binary = c4/c3 if c3 != 0 else 0\n",
    "\n",
    "                dictionary = {'data': [fp_src],\n",
    "                        'type': ['prediction'],\n",
    "                        'zoom_level': [zoom_level],\n",
    "                        'weights': weights,\n",
    "                        'mask': [fps_src_mask],\n",
    "\n",
    "                        'inverted': [adjust_invert],\n",
    "                        'sharpness': [adjust_sharpness],\n",
    "                        'sharpness_level': [sharpness_level],\n",
    "                        'contrast': [adjust_contrast],\n",
    "                        'contrast_level': [contrast_level],\n",
    "                        'mean_&_std': [adjust_mean_std],\n",
    "                        'mean_OSTEM': [mean_OSTEM[k]],\n",
    "                        'mean_BSE': [mean_BSE[k]],\n",
    "                        'std_OSTEM': [std_OSTEM[k]],\n",
    "                        'std_BSE': [std_BSE[k]],\n",
    "                        'clipping': [adjust_clipping],\n",
    "                        'contrast': [adjust_contrast],\n",
    "                        'threshold': [threshold],\n",
    "\n",
    "                        'threshold_predic_alpha': [alpha_thres],\n",
    "                        'threshold_predic_beta': [beta_thres],\n",
    "                        'threshold_binary_predic_alpha': [alpha_binary],\n",
    "                        'threshold_binary_predic_beta': [beta_binary], \n",
    "                        'product_alpha_beta': (w_alpha*alpha_thres+w_beta*beta_binary), \n",
    "                        'w_alpha': w_alpha,\n",
    "                        'w_beta': w_beta      \n",
    "                       }\n",
    "\n",
    "                if save_file:\n",
    "                    df2 = pd.DataFrame(dictionary)\n",
    "                    df = df.append(df2)\n",
    "                    df.to_csv(filename, index=False)\n",
    "                    data = pd.read_csv(filename)\n",
    "                    df = pd.DataFrame(data)\n",
    "\n",
    "                if with_callbacks:\n",
    "                    print('Inverted:            ', adjust_invert)\n",
    "\n",
    "                    print('Mean & Std:          ', adjust_mean_std)\n",
    "                    print()\n",
    "\n",
    "                    print('Raw pred      alpha:',round(alpha_raw,2),'%')\n",
    "                    print('              beta: ',round(beta_raw,2),'%')\n",
    "                    print()\n",
    "\n",
    "\n",
    "                    print('Thres         alpha:',round(alpha_thres,2),'%')\n",
    "                    print('              beta: ',round(beta_thres,2),'%')\n",
    "                    print()\n",
    "                    print('Thres Binary  alpha:',round(alpha_binary,2),'%')\n",
    "                    print('              beta: ',round(beta_binary,2),'%')\n",
    "print('Finished!')\n"
   ]
  },
  {
   "cell_type": "markdown",
   "metadata": {},
   "source": [
    "### View masks\n"
   ]
  },
  {
   "cell_type": "code",
   "execution_count": 29,
   "metadata": {},
   "outputs": [],
   "source": [
    "# data = pd.read_csv(r'./auto_test_2.csv')\n",
    "# df = pd.DataFrame(data)\n",
    "# pd.set_option('display.max_columns', None)\n",
    "# df"
   ]
  },
  {
   "cell_type": "code",
   "execution_count": 32,
   "metadata": {},
   "outputs": [
    {
     "data": {
      "image/png": "[encoded data removed]",
      "text/plain": [
       "<PIL.Image.Image image mode=L size=1024x1024 at 0x7FF61C300B50>"
      ]
     },
     "metadata": {},
     "output_type": "display_data"
    }
   ],
   "source": [
    "fps_src_mask = \"/home/mabels/CLEMnet/data/OSTEM/masks/0/mask/mask OSTEM.png\"\n",
    "img_mask = Image.open(fps_src_mask)\n",
    "img_mask.show()\n",
    "\n",
    "img_mask = np.asarray(img_mask)/255\n",
    "\n",
    "y = (row['y']-fltr_manual[1][0])*scale\n",
    "x = (row['x']-fltr_manual[0][0])*scale\n",
    "w = scale\n",
    "h = scale\n",
    "\n",
    "img_mask = img_mask[y:y+h, x:x+w, 0]\n",
    "img_mask = resize(img_mask, (1024,1024))\n",
    "img_mask = img_mask[:,:]*-1+1\n"
   ]
  },
  {
   "cell_type": "code",
   "execution_count": null,
   "metadata": {},
   "outputs": [],
   "source": []
  },
  {
   "cell_type": "code",
   "execution_count": null,
   "metadata": {},
   "outputs": [],
   "source": []
  }
 ],
 "metadata": {
  "kernelspec": {
   "display_name": "Python 3 (ipykernel)",
   "language": "python",
   "name": "python3"
  },
  "language_info": {
   "codemirror_mode": {
    "name": "ipython",
    "version": 3
   },
   "file_extension": ".py",
   "mimetype": "text/x-python",
   "name": "python",
   "nbconvert_exporter": "python",
   "pygments_lexer": "ipython3",
   "version": "3.8.10"
  }
 },
 "nbformat": 4,
 "nbformat_minor": 4
}
