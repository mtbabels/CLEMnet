{
 "cells": [
  {
   "cell_type": "markdown",
   "id": "13e50ff3",
   "metadata": {},
   "source": [
    "# Smoothing training data with Gaussian blur"
   ]
  },
  {
   "cell_type": "code",
   "execution_count": 2,
   "id": "ab56b2b2",
   "metadata": {},
   "outputs": [],
   "source": [
    "from pathlib import Path\n",
    "from tqdm.notebook import tqdm\n",
    "from PIL import Image, ImageEnhance, ImageOps, ImageFilter\n",
    "import clemnet"
   ]
  },
  {
   "cell_type": "code",
   "execution_count": 4,
   "id": "fc000a25",
   "metadata": {},
   "outputs": [],
   "source": [
    "path = '/home/rlane/FMML_DATA/20200618_RL012/2us/lil_EM_2us_montaged/'\n",
    "fps_src = list(Path(path).glob('*/*_*_*.png'))\n",
    "\n",
    "df = clemnet.get_DataFrame(fps_src)\n",
    "\n",
    "blur = True\n",
    "blur_values = [1, 2, 3, 4, 5, 6, 7]\n",
    "save = False\n",
    "\n",
    "if blur:\n",
    "    for blur_value in blur_values:\n",
    "        for z, df_z in df.groupby('z'):\n",
    "            \n",
    "            df_z = df_z.source.reset_index(drop=True)\n",
    "            print(z, df['z'].unique())\n",
    "            \n",
    "            for i in tqdm(range(len(df_z))):\n",
    "                im = Image.open(df_z[i])\n",
    "                im = im.filter(ImageFilter.GaussianBlur(blur_value))\n",
    "\n",
    "                if save:\n",
    "                    name = df_z[i].replace(path,\"\",1)[2:-4]\n",
    "                    name = \"/home/mabels/CLEMnet/data/RL012_adjusted/RL012_blurred_\"+ str(blur_value) + \"/\"+ str(z) +\"/\" + name + \".png\"\n",
    "                    im.save(name)\n",
    "                    \n",
    "    "
   ]
  },
  {
   "cell_type": "code",
   "execution_count": null,
   "id": "7e8804e8",
   "metadata": {},
   "outputs": [],
   "source": [
    "print(image)"
   ]
  }
 ],
 "metadata": {
  "kernelspec": {
   "display_name": "Python 3 (ipykernel)",
   "language": "python",
   "name": "python3"
  },
  "language_info": {
   "codemirror_mode": {
    "name": "ipython",
    "version": 3
   },
   "file_extension": ".py",
   "mimetype": "text/x-python",
   "name": "python",
   "nbconvert_exporter": "python",
   "pygments_lexer": "ipython3",
   "version": "3.8.10"
  }
 },
 "nbformat": 4,
 "nbformat_minor": 5
}
