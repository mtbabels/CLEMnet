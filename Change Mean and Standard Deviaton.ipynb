{
 "cells": [
  {
   "cell_type": "code",
   "execution_count": 21,
   "id": "ab56b2b2",
   "metadata": {},
   "outputs": [],
   "source": [
    "import clemnet\n",
    "from pathlib import Path\n",
    "import pandas as pd\n",
    "import numpy as np\n",
    "import cv2\n",
    "import matplotlib.pyplot as plt\n",
    "from matplotlib.image import imread\n",
    "from tifffile import imsave"
   ]
  },
  {
   "cell_type": "code",
   "execution_count": 22,
   "id": "5f943727",
   "metadata": {},
   "outputs": [],
   "source": [
    "def mean_std_for_plot(image, i):\n",
    "    global mean\n",
    "    global std\n",
    "    global mean_plot\n",
    "    global std_plot\n",
    "    \n",
    "    mean = (mean + image.mean())\n",
    "    mean_plot.append(mean/(i+1))\n",
    "\n",
    "    std = (std + image.std())\n",
    "    std_plot.append(std/(i+1))\n",
    "\n",
    "def mean_std_adjustments(m0, s0, m1, s1, image):\n",
    "    std_factor = s1/s0\n",
    "    mean_adjustment = m1-m0\n",
    "    image = image+mean_adjustment\n",
    "    image = tf.image.adjust_contrast(image[:,:,np.newaxis], std_factor)\n",
    "    image = image.numpy()[:,:,0]\n",
    "    return image"
   ]
  },
  {
   "cell_type": "code",
   "execution_count": 23,
   "id": "fc000a25",
   "metadata": {},
   "outputs": [
    {
     "name": "stdout",
     "output_type": "stream",
     "text": [
      "\n",
      "\n",
      "/home/rlane/FMML_DATA/20211206_RP_OTO/lil_EM_montaged\n",
      "\n",
      "\n",
      "Moving Mean: 0.3462203359629689 Moving Std: 0.12717707069039821\n",
      "Average Mean: 0.3421039657086327 Average Std: 0.1209882106610087\n"
     ]
    },
    {
     "data": {
      "image/png": "[encoded data removed]",
      "text/plain": [
       "<Figure size 432x288 with 1 Axes>"
      ]
     },
     "metadata": {
      "needs_background": "light"
     },
     "output_type": "display_data"
    }
   ],
   "source": [
    "# Choose dataset\n",
    "# path = '/home/rlane/FMML_DATA/20200618_RL012/2us/lil_EM_2us_montaged/'\n",
    "# path = '/home/mabels/CLEMnet/data/RL012_blurred'\n",
    "# path = '/home/rlane/FMML_DATA/20210224_FAST-EM_prototype'\n",
    "path = '/home/rlane/FMML_DATA/20211206_RP_OTO/lil_EM_montaged'\n",
    "# path = '/home/mabels/CLEMnet/data/RL012_mean_std_adjusted/'\n",
    "\n",
    "fps_src = list(Path(path).glob('*/*_*_*.png'))\n",
    "df = clemnet.get_DataFrame(fps_src)\n",
    "\n",
    "# Filter sections\n",
    "# df = df.loc[df['z'] != 1]\n",
    "\n",
    "# Filter out outermost rows and columns\n",
    "b = 0\n",
    "df_fps_RL012 = pd.DataFrame()\n",
    "\n",
    "# Must be done per section\n",
    "for z, grp in df.groupby('z'):\n",
    "    df_fps_RL012 = df_fps_RL012.append(grp.loc[(grp['x'] > grp['x'].min()+b) &\\\n",
    "                                               (grp['y'] > grp['y'].min()+b) &\\\n",
    "                                               (grp['x'] < grp['x'].max()-b) &\\\n",
    "                                               (grp['y'] < grp['y'].max()-b)])\n",
    "df_fps = df.source\n",
    "df_fps = df_fps_RL012.source.reset_index(drop=True)\n",
    "\n",
    "mean = 0\n",
    "std = 0\n",
    "\n",
    "image_adjusted = []\n",
    "mean_plot = []\n",
    "std_plot = []\n",
    "min_image = []\n",
    "\n",
    "mean_begin = 0.45819 \n",
    "mean_end = 0\n",
    "std_begin = 0.2796\n",
    "std_end = 1\n",
    "\n",
    "m_s_adj = False\n",
    "save = False\n",
    "plot = True\n",
    "\n",
    "if m_s_adj:\n",
    "    for z, df_z in df.groupby('z'):\n",
    "        df_z = df_z.source.reset_index(drop=True)\n",
    "\n",
    "        for i in range(len(df_z)):\n",
    "            image = imread(df_z[i])\n",
    "            image = mean_std_adjustments(mean_begin, std_begin, mean_end, std_end, image)\n",
    "            image_adjusted.append(image)\n",
    "            min_image.append(image.min()) \n",
    "    min_image = abs(min(min_image))\n",
    "\n",
    "\n",
    "image_adjusted_2 = []\n",
    "\n",
    "if m_s_adj:\n",
    "    for z, df_z in df.groupby('z'):\n",
    "        df_z = df_z.source.reset_index(drop=True)       \n",
    "     \n",
    "        for i in range(len(df_z)):\n",
    "            image = image_adjusted[i]\n",
    "            image = (image/min_image+1)/(min_image+1)*255\n",
    "            image_adjusted_2.append(image)\n",
    "            \n",
    "            if save:\n",
    "                name = df_z[i].replace(path,\"\",1)[2:-4]\n",
    "                name = \"/home/mabels/CLEMnet/data/adj_RL012_ms/\"+ str(z) +\"/\" + name + \".png\"\n",
    "                io.imsave(name, image)\n",
    "                print(name)\n",
    "                print('saved:', i, 'from', z)\n",
    "    x_axis = len(df)\n",
    "else:\n",
    "    x_axis = len(df_fps)\n",
    "    \n",
    "if plot:   \n",
    "    for i in range(x_axis):\n",
    "        if m_s_adj:\n",
    "            image = image_adjusted_2[i]\n",
    "            \n",
    "        else:   \n",
    "            image = cv2.imread(df_fps[i], -1)/255\n",
    "            \n",
    "        mean_std_for_plot(image, i)\n",
    "\n",
    "plt.plot(mean_plot)\n",
    "# plt.plot(np.zeros(len(mean_plot)))\n",
    "plt.plot(std_plot)\n",
    "# plt.plot(np.ones(len(std_plot)))\n",
    "plt.plot((sum(mean_plot)/len(mean_plot))*np.ones(len(mean_plot)), alpha=0.35)\n",
    "plt.plot((sum(std_plot)/len(std_plot))*np.ones(len(std_plot)), alpha=0.35)\n",
    "# plt.ylim(0.2, 0.5)\n",
    "\n",
    "print()\n",
    "print()\n",
    "print(path)\n",
    "print()\n",
    "if m_s_adj:\n",
    "    print('Mean & std adjusted:', mean_begin, 'to', mean_end, 'and', std_begin, 'to', std_end)\n",
    "print()\n",
    "print('Moving Mean:', mean_plot[-1], 'Moving Std:', std_plot[-1])\n",
    "print('Average Mean:', sum(mean_plot)/len(mean_plot), 'Average Std:', sum(std_plot)/len(std_plot))\n"
   ]
  },
  {
   "cell_type": "code",
   "execution_count": 5,
   "id": "7e8804e8",
   "metadata": {},
   "outputs": [],
   "source": [
    "print(image)"
   ]
  },
  {
   "cell_type": "code",
   "execution_count": null,
   "id": "6123b64c",
   "metadata": {},
   "outputs": [],
   "source": []
  }
 ],
 "metadata": {
  "kernelspec": {
   "display_name": "Python 3 (ipykernel)",
   "language": "python",
   "name": "python3"
  },
  "language_info": {
   "codemirror_mode": {
    "name": "ipython",
    "version": 3
   },
   "file_extension": ".py",
   "mimetype": "text/x-python",
   "name": "python",
   "nbconvert_exporter": "python",
   "pygments_lexer": "ipython3",
   "version": "3.8.10"
  }
 },
 "nbformat": 4,
 "nbformat_minor": 5
}
